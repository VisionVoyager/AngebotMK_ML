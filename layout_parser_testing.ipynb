{
 "cells": [
  {
   "cell_type": "code",
   "execution_count": 5,
   "metadata": {},
   "outputs": [],
   "source": [
    "from PIL import Image\n",
    "import numpy as np\n",
    "import layoutparser as lp"
   ]
  },
  {
   "cell_type": "code",
   "execution_count": 2,
   "metadata": {},
   "outputs": [],
   "source": [
    "img = Image.open('tinywow_letok-12-2023-spoen_26956383_5.png')"
   ]
  },
  {
   "cell_type": "code",
   "execution_count": 4,
   "metadata": {},
   "outputs": [],
   "source": [
    "img = np.array(img)"
   ]
  },
  {
   "cell_type": "code",
   "execution_count": 8,
   "metadata": {},
   "outputs": [
    {
     "ename": "AttributeError",
     "evalue": "module layoutparser has no attribute Detectron2LayoutModel",
     "output_type": "error",
     "traceback": [
      "\u001b[0;31m---------------------------------------------------------------------------\u001b[0m",
      "\u001b[0;31mAttributeError\u001b[0m                            Traceback (most recent call last)",
      "Cell \u001b[0;32mIn[8], line 1\u001b[0m\n\u001b[0;32m----> 1\u001b[0m model \u001b[39m=\u001b[39m lp\u001b[39m.\u001b[39;49mDetectron2LayoutModel(\u001b[39m'\u001b[39m\u001b[39mlp://PubLayNet/mask_rcnn_X_101_32x8d_FPN_3x/config\u001b[39m\u001b[39m'\u001b[39m,\n\u001b[1;32m      2\u001b[0m                                  extra_config\u001b[39m=\u001b[39m[\u001b[39m\"\u001b[39m\u001b[39mMODEL.ROI_HEADS.SCORE_THRESH_TEST\u001b[39m\u001b[39m\"\u001b[39m, \u001b[39m0.5\u001b[39m],\n\u001b[1;32m      3\u001b[0m                                  label_map\u001b[39m=\u001b[39m{\u001b[39m0\u001b[39m: \u001b[39m\"\u001b[39m\u001b[39mText\u001b[39m\u001b[39m\"\u001b[39m, \u001b[39m1\u001b[39m: \u001b[39m\"\u001b[39m\u001b[39mTitle\u001b[39m\u001b[39m\"\u001b[39m, \u001b[39m2\u001b[39m: \u001b[39m\"\u001b[39m\u001b[39mList\u001b[39m\u001b[39m\"\u001b[39m, \u001b[39m3\u001b[39m:\u001b[39m\"\u001b[39m\u001b[39mTable\u001b[39m\u001b[39m\"\u001b[39m, \u001b[39m4\u001b[39m:\u001b[39m\"\u001b[39m\u001b[39mFigure\u001b[39m\u001b[39m\"\u001b[39m})\n",
      "File \u001b[0;32m~/.cache/pypoetry/virtualenvs/angebotmk-ml-nMEWGbmE-py3.11/lib/python3.11/site-packages/layoutparser/file_utils.py:226\u001b[0m, in \u001b[0;36m_LazyModule.__getattr__\u001b[0;34m(self, name)\u001b[0m\n\u001b[1;32m    224\u001b[0m     value \u001b[39m=\u001b[39m \u001b[39mgetattr\u001b[39m(module, name)\n\u001b[1;32m    225\u001b[0m \u001b[39melse\u001b[39;00m:\n\u001b[0;32m--> 226\u001b[0m     \u001b[39mraise\u001b[39;00m \u001b[39mAttributeError\u001b[39;00m(\u001b[39mf\u001b[39m\u001b[39m\"\u001b[39m\u001b[39mmodule \u001b[39m\u001b[39m{\u001b[39;00m\u001b[39mself\u001b[39m\u001b[39m.\u001b[39m\u001b[39m__name__\u001b[39m\u001b[39m}\u001b[39;00m\u001b[39m has no attribute \u001b[39m\u001b[39m{\u001b[39;00mname\u001b[39m}\u001b[39;00m\u001b[39m\"\u001b[39m)\n\u001b[1;32m    228\u001b[0m \u001b[39msetattr\u001b[39m(\u001b[39mself\u001b[39m, name, value)\n\u001b[1;32m    229\u001b[0m \u001b[39mreturn\u001b[39;00m value\n",
      "\u001b[0;31mAttributeError\u001b[0m: module layoutparser has no attribute Detectron2LayoutModel"
     ]
    }
   ],
   "source": [
    "model = lp.Detectron2LayoutModel('lp://PubLayNet/mask_rcnn_X_101_32x8d_FPN_3x/config',\n",
    "                                 extra_config=[\"MODEL.ROI_HEADS.SCORE_THRESH_TEST\", 0.5],\n",
    "                                 label_map={0: \"Text\", 1: \"Title\", 2: \"List\", 3:\"Table\", 4:\"Figure\"})"
   ]
  },
  {
   "cell_type": "code",
   "execution_count": null,
   "metadata": {},
   "outputs": [],
   "source": []
  }
 ],
 "metadata": {
  "kernelspec": {
   "display_name": "angebotmk-ml-nMEWGbmE-py3.11",
   "language": "python",
   "name": "python3"
  },
  "language_info": {
   "codemirror_mode": {
    "name": "ipython",
    "version": 3
   },
   "file_extension": ".py",
   "mimetype": "text/x-python",
   "name": "python",
   "nbconvert_exporter": "python",
   "pygments_lexer": "ipython3",
   "version": "3.9.15"
  },
  "orig_nbformat": 4
 },
 "nbformat": 4,
 "nbformat_minor": 2
}
