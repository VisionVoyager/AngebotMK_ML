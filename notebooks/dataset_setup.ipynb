{
 "cells": [
  {
   "cell_type": "code",
   "execution_count": 1,
   "metadata": {},
   "outputs": [],
   "source": [
    "import json\n",
    "from datasets import load_dataset, Dataset\n",
    "from PIL import Image, ImageDraw\n",
    "\n",
    "\n",
    "def transform_result(result, img_id,data_path, exclude_classes=[]):\n",
    "    annotations = [\n",
    "        r\n",
    "        for r in result[\"annotations\"]\n",
    "        if r[\"image_id\"] == img_id\n",
    "        if r[\"category_id\"] not in exclude_classes\n",
    "    ]\n",
    "    new_result = {\n",
    "        \"image_id\": img_id,\n",
    "        \"image\": Image.open(data_path + \"/\" + result[\"images\"][img_id][\"file_name\"]),\n",
    "        \"width\": result[\"images\"][img_id][\"width\"],\n",
    "        \"height\": result[\"images\"][img_id][\"height\"],\n",
    "        \"objects\": {\n",
    "            \"id\": [a[\"id\"] for a in annotations],\n",
    "            \"area\": [a[\"area\"] for a in annotations],\n",
    "            \"bbox\": [a[\"bbox\"] for a in annotations],\n",
    "            \"category\": [a[\"category_id\"] for a in annotations],\n",
    "        },\n",
    "    }\n",
    "\n",
    "    return new_result"
   ]
  },
  {
   "cell_type": "code",
   "execution_count": 2,
   "metadata": {},
   "outputs": [],
   "source": [
    "data_path = \"../data\"\n",
    "\n",
    "with open(data_path + \"/result.json\", \"r\") as f:\n",
    "    angebot = json.load(f)\n",
    "\n",
    "angebot_dataset = Dataset.from_list(\n",
    "    [transform_result(angebot, i,data_path, []) for i in range(len(angebot[\"images\"]))]\n",
    ")\n"
   ]
  },
  {
   "cell_type": "code",
   "execution_count": 3,
   "metadata": {},
   "outputs": [],
   "source": [
    "from itertools import groupby\n",
    "\n",
    "angebot_products = groupby(angebot['annotations'], lambda x: x['image_id'])\n"
   ]
  },
  {
   "cell_type": "code",
   "execution_count": 4,
   "metadata": {},
   "outputs": [],
   "source": [
    "angebot_products = [\n",
    "    {\n",
    "        \"image_id\": key,\n",
    "        \"image\": Image.open(data_path + \"/\" + angebot[\"images\"][key][\"file_name\"]),\n",
    "        \"width\": angebot[\"images\"][key][\"width\"],\n",
    "        \"height\": angebot[\"images\"][key][\"height\"],\n",
    "        \"objects\": {\n",
    "            \"id\": [a[\"id\"] for a in group],\n",
    "            \"area\": [a[\"area\"] for a in group],\n",
    "            \"bbox\": [a[\"bbox\"] for a in group],\n",
    "            \"category\": [a[\"category_id\"] for a in group],\n",
    "        },\n",
    "    }\n",
    "    for key, group in angebot_products\n",
    "]\n"
   ]
  },
  {
   "cell_type": "code",
   "execution_count": 14,
   "metadata": {},
   "outputs": [
    {
     "data": {
      "text/plain": [
       "[273.8778747867333, 809.0484522207267, 280.1763122476448, 141.6621803499327]"
      ]
     },
     "execution_count": 14,
     "metadata": {},
     "output_type": "execute_result"
    }
   ],
   "source": [
    "angebot_dataset[0]['objects']['bbox'][0]"
   ]
  },
  {
   "cell_type": "code",
   "execution_count": 16,
   "metadata": {},
   "outputs": [
    {
     "data": {
      "text/plain": [
       "dict_keys(['area', 'bbox', 'category', 'id'])"
      ]
     },
     "execution_count": 16,
     "metadata": {},
     "output_type": "execute_result"
    }
   ],
   "source": [
    "angebot_dataset[0]['objects'].keys()"
   ]
  },
  {
   "cell_type": "code",
   "execution_count": 17,
   "metadata": {},
   "outputs": [
    {
     "data": {
      "text/plain": [
       "1"
      ]
     },
     "execution_count": 17,
     "metadata": {},
     "output_type": "execute_result"
    }
   ],
   "source": [
    "angebot_dataset[0]['objects']['category'][0]"
   ]
  },
  {
   "cell_type": "code",
   "execution_count": null,
   "metadata": {},
   "outputs": [],
   "source": []
  }
 ],
 "metadata": {
  "kernelspec": {
   "display_name": "ml",
   "language": "python",
   "name": "python3"
  },
  "language_info": {
   "codemirror_mode": {
    "name": "ipython",
    "version": 3
   },
   "file_extension": ".py",
   "mimetype": "text/x-python",
   "name": "python",
   "nbconvert_exporter": "python",
   "pygments_lexer": "ipython3",
   "version": "3.9.18"
  }
 },
 "nbformat": 4,
 "nbformat_minor": 2
}
