{
  "cells": [
    {
      "cell_type": "code",
      "execution_count": null,
      "metadata": {
        "colab": {
          "base_uri": "https://localhost:8080/"
        },
        "id": "wgkRQg8STxGd",
        "outputId": "535d9404-bacf-4f68-ebf3-f5abc29b6fa9"
      },
      "outputs": [
        {
          "output_type": "stream",
          "name": "stdout",
          "text": [
            "Drive already mounted at /content/drive; to attempt to forcibly remount, call drive.mount(\"/content/drive\", force_remount=True).\n"
          ]
        }
      ],
      "source": [
        "from google.colab import drive\n",
        "drive.mount('/content/drive')"
      ]
    },
    {
      "cell_type": "code",
      "execution_count": null,
      "metadata": {
        "id": "K_aC3VIfVAXU"
      },
      "outputs": [],
      "source": [
        "import json\n",
        "\n",
        "data_path = '/content/drive/MyDrive/Angebot'\n",
        "\n",
        "with open(data_path+'/result.json', 'r') as f:\n",
        "  angebot = json.load(f)"
      ]
    },
    {
      "cell_type": "code",
      "execution_count": null,
      "metadata": {
        "id": "7yB2oqdWAadB"
      },
      "outputs": [],
      "source": [
        "!pip install -q datasets transformers evaluate timm albumentations transformers[torch] timm"
      ]
    },
    {
      "cell_type": "code",
      "execution_count": null,
      "metadata": {
        "id": "bdfSPF9sbiE0"
      },
      "outputs": [],
      "source": [
        "from datasets import load_dataset\n",
        "from PIL import Image,ImageDraw\n",
        "import json"
      ]
    },
    {
      "cell_type": "code",
      "execution_count": null,
      "metadata": {
        "colab": {
          "base_uri": "https://localhost:8080/"
        },
        "id": "JYwGnxXcOk4s",
        "outputId": "4262d033-8d22-4cce-d0fb-dec7d61a7971"
      },
      "outputs": [
        {
          "output_type": "execute_result",
          "data": {
            "text/plain": [
              "[{'id': 0, 'name': 'discount'},\n",
              " {'id': 1, 'name': 'price'},\n",
              " {'id': 2, 'name': 'product area'},\n",
              " {'id': 3, 'name': 'product name'}]"
            ]
          },
          "metadata": {},
          "execution_count": 5
        }
      ],
      "source": [
        "angebot['categories']"
      ]
    },
    {
      "cell_type": "code",
      "execution_count": null,
      "metadata": {
        "id": "46jIGKOebkSw"
      },
      "outputs": [],
      "source": [
        "def transform_result(result,img_id,exclude_classes=[]):\n",
        "\n",
        "    annotations = [r for r in result['annotations']\n",
        "                   if r['image_id'] == img_id\n",
        "                   if r['category_id'] not in exclude_classes\n",
        "                   ]\n",
        "    new_result = {\n",
        "        'image_id':img_id,\n",
        "        'image': Image.open(data_path+'/'+result['images'][img_id]['file_name']),\n",
        "        'width':result['images'][img_id]['width'],\n",
        "        'height':result['images'][img_id]['height'],\n",
        "        'objects':{\n",
        "            'id':[a['id'] for a in annotations],\n",
        "            'area':[a['area'] for a in annotations ],\n",
        "            'bbox':[a['bbox'] for a in annotations ],\n",
        "            'category':[a['category_id'] for a in annotations],\n",
        "        }\n",
        "    }\n",
        "\n",
        "\n",
        "    return new_result"
      ]
    },
    {
      "cell_type": "code",
      "source": [
        "def find_inside_boxes(dataset_row, core_bbox):\n",
        "    bbox = (core_bbox[0], core_bbox[1], core_bbox[0]+core_bbox[2], core_bbox[1]+core_bbox[3])\n",
        "    img = dataset_row['image'].crop(bbox)\n",
        "    inside_bboxes_and_classes = [([b[0]-bbox[0], b[1] - bbox[1], (b[0]+b[2]) - bbox[0],  (b[1]+b[3]) - bbox[1]],c)\n",
        "                     for b,c in zip(dataset_row['objects']['bbox'], dataset_row['objects']['category'])\n",
        "                     if b[0] >= bbox[0] and b[1] >= bbox[1] and b[0]+b[2] <= bbox[2] and b[1]+b[3] <= bbox[3] and c != 2]\n",
        "    inside_boxes = []\n",
        "    for inside_bboxes,_ in inside_bboxes_and_classes:\n",
        "      temp_bbox = [b for b in inside_bboxes]\n",
        "      if inside_bboxes[0]+ inside_bboxes[2] > img.width:\n",
        "        temp_bbox[2] = img.width - temp_bbox[0]\n",
        "      if inside_bboxes[1]+ inside_bboxes[3] > img.height:\n",
        "        temp_bbox[3] = img.height - temp_bbox[1]\n",
        "      inside_boxes.append(temp_bbox)\n",
        "    return inside_boxes, [inside_classe for _,inside_classe in inside_bboxes_and_classes], img\n",
        "\n",
        "\n",
        "def handle_row(dataset_row):\n",
        "    core_bboxes = [bbox\n",
        "               for bbox,category in zip(dataset_row['objects']['bbox'], dataset_row['objects']['category'])\n",
        "               if category == 2]\n",
        "    inside_bboxes_all = []\n",
        "    inside_classes_all = []\n",
        "    img_all = []\n",
        "    for core_bbox in core_bboxes:\n",
        "        inside_bboxes, inside_classes, img = find_inside_boxes(dataset_row, core_bbox)\n",
        "        inside_bboxes_all.append(inside_bboxes)\n",
        "        inside_classes_all.append(inside_classes)\n",
        "        img_all.append(img)\n",
        "\n",
        "    return [\n",
        "        {\n",
        "            'image_id': f\"{dataset_row['image_id']}_{img_id}\",\n",
        "            'image':img,\n",
        "            'width': img.width,\n",
        "            'height': img.height,\n",
        "            'objects': {\n",
        "                'bbox': inside_bboxes,\n",
        "                'category': inside_classes,\n",
        "                'id':[i for i in range(len(inside_classes))],\n",
        "                'area':[bbox[2]*bbox[3] for bbox in inside_bboxes]\n",
        "            },\n",
        "        }\n",
        "        for img_id,(inside_bboxes, inside_classes, img) in enumerate(zip(inside_bboxes_all, inside_classes_all, img_all))\n",
        "    ]\n"
      ],
      "metadata": {
        "id": "2cnuGD5orf2-"
      },
      "execution_count": null,
      "outputs": []
    },
    {
      "cell_type": "code",
      "execution_count": null,
      "metadata": {
        "id": "6p_CPDTjAiSu"
      },
      "outputs": [],
      "source": [
        "from datasets import load_dataset\n",
        "from datasets import Dataset\n",
        "\n",
        "angebot_dataset = Dataset.from_list([transform_result(angebot,i,[]) for i in range(len(angebot['images']))])\n",
        "angebot_dataset = Dataset.from_list(\n",
        "    [sub_row\n",
        "     for row in angebot_dataset\n",
        "     for sub_row in handle_row(row)]\n",
        ")"
      ]
    },
    {
      "cell_type": "code",
      "execution_count": null,
      "metadata": {
        "id": "Xx2qnmkrci1L"
      },
      "outputs": [],
      "source": [
        "ab_ds = angebot_dataset.train_test_split(test_size=0.2,seed = 420)"
      ]
    },
    {
      "cell_type": "code",
      "execution_count": null,
      "metadata": {
        "id": "TDH9myXMAwhM",
        "colab": {
          "base_uri": "https://localhost:8080/",
          "height": 627
        },
        "outputId": "1bd72428-5346-410f-ddbf-5cec1b7dcbd4"
      },
      "outputs": [
        {
          "output_type": "stream",
          "name": "stdout",
          "text": [
            "Width 390.8432642487047 497\n",
            "Height 81.80440414507802 506\n",
            "Width 497.0 497\n",
            "Height 278.74093264248734 506\n",
            "Width 497.0 497\n",
            "Height 118.16191709844577 506\n"
          ]
        },
        {
          "output_type": "execute_result",
          "data": {
            "text/plain": [
              "<PIL.PngImagePlugin.PngImageFile image mode=RGB size=497x506>"
            ],
            "image/png": "[encoded data removed]"
          },
          "metadata": {},
          "execution_count": 10
        }
      ],
      "source": [
        "import numpy as np\n",
        "import os\n",
        "from PIL import Image, ImageDraw\n",
        "\n",
        "image = ab_ds[\"train\"][0][\"image\"]\n",
        "annotations = ab_ds[\"train\"][0][\"objects\"]\n",
        "draw = ImageDraw.Draw(image)\n",
        "\n",
        "\n",
        "id2label = {r['id']:r['name'] for r in angebot['categories']}\n",
        "label2id = {r['name']:r['id'] for r in angebot['categories']}\n",
        "\n",
        "for i in range(len(annotations[\"id\"])):\n",
        "    box = annotations[\"bbox\"][i - 1]\n",
        "    class_idx = annotations[\"category\"][i - 1]\n",
        "    x, y, w, h = tuple(box)\n",
        "    print('Width',x+w,image.width)\n",
        "    print('Height',y+h,image.height)\n",
        "    draw.rectangle((x, y, x+w, y+h), outline=\"red\", width=1)\n",
        "    draw.text((x, y), id2label[class_idx], fill=\"black\")\n",
        "\n",
        "image"
      ]
    },
    {
      "cell_type": "code",
      "execution_count": null,
      "metadata": {
        "id": "9b7F8SEJA5hB"
      },
      "outputs": [],
      "source": [
        "from transformers import AutoImageProcessor\n",
        "\n",
        "checkpoint = f\"/content/drive/MyDrive/Angebot/facebook-detr-resnet-50/250_epochs_subimages\"\n",
        "number_epochs = 50\n",
        "image_processor = AutoImageProcessor.from_pretrained(checkpoint)"
      ]
    },
    {
      "cell_type": "code",
      "execution_count": null,
      "metadata": {
        "id": "IMEpcQsbA64I"
      },
      "outputs": [],
      "source": [
        "import albumentations\n",
        "import numpy as np\n",
        "import torch\n",
        "\n",
        "transform = albumentations.Compose(\n",
        "    [\n",
        "        albumentations.Resize(480, 480),\n",
        "        albumentations.HorizontalFlip(p=1.0),\n",
        "        albumentations.RandomBrightnessContrast(p=1.0),\n",
        "    ],\n",
        "    bbox_params=albumentations.BboxParams(format=\"coco\", label_fields=[\"category\"]),\n",
        ")"
      ]
    },
    {
      "cell_type": "code",
      "execution_count": null,
      "metadata": {
        "id": "SxQVjmyMA8va"
      },
      "outputs": [],
      "source": [
        "def formatted_anns(image_id, category, area, bbox):\n",
        "    annotations = []\n",
        "    for i in range(0, len(category)):\n",
        "        new_ann = {\n",
        "            \"image_id\": image_id,\n",
        "            \"category_id\": category[i],\n",
        "            \"isCrowd\": 0,\n",
        "            \"area\": area[i],\n",
        "            \"bbox\": list(bbox[i]),\n",
        "        }\n",
        "        annotations.append(new_ann)\n",
        "\n",
        "    return annotations"
      ]
    },
    {
      "cell_type": "code",
      "execution_count": null,
      "metadata": {
        "id": "YAnzRUcOA-U2"
      },
      "outputs": [],
      "source": [
        "# transforming a batch\n",
        "def transform_aug_ann(examples):\n",
        "    image_ids = examples[\"image_id\"]\n",
        "    images, bboxes, area, categories = [], [], [], []\n",
        "    for image, objects in zip(examples[\"image\"], examples[\"objects\"]):\n",
        "        image = np.array(image.convert(\"RGB\"))[:, :, ::-1]\n",
        "        out = transform(image=image, bboxes=objects[\"bbox\"], category=objects[\"category\"])\n",
        "\n",
        "        area.append(objects[\"area\"])\n",
        "        images.append(out[\"image\"])\n",
        "        bboxes.append(out[\"bboxes\"])\n",
        "        categories.append(out[\"category\"])\n",
        "\n",
        "    targets = [\n",
        "        {\"image_id\": id_, \"annotations\": formatted_anns(id_, cat_, ar_, box_)}\n",
        "        for id_, cat_, ar_, box_ in zip(image_ids, categories, area, bboxes)\n",
        "    ]\n",
        "\n",
        "    return image_processor(images=images, annotations=targets, return_tensors=\"pt\")"
      ]
    },
    {
      "cell_type": "code",
      "execution_count": null,
      "metadata": {
        "id": "9U5He2ecA-sL"
      },
      "outputs": [],
      "source": [
        "ab_ds[\"train\"] = ab_ds[\"train\"].with_transform(transform_aug_ann)"
      ]
    },
    {
      "cell_type": "code",
      "execution_count": null,
      "metadata": {
        "id": "vwnwV8aYA_al"
      },
      "outputs": [],
      "source": [
        "def collate_fn(batch):\n",
        "    pixel_values = [item[\"pixel_values\"] for item in batch]\n",
        "    encoding = image_processor.pad(pixel_values, return_tensors=\"pt\")\n",
        "    labels = [item[\"labels\"] for item in batch]\n",
        "    batch = {}\n",
        "    batch[\"pixel_values\"] = encoding[\"pixel_values\"]\n",
        "    batch[\"pixel_mask\"] = encoding[\"pixel_mask\"]\n",
        "    batch[\"labels\"] = labels\n",
        "    return batch"
      ]
    },
    {
      "cell_type": "code",
      "execution_count": null,
      "metadata": {
        "colab": {
          "base_uri": "https://localhost:8080/",
          "height": 49,
          "referenced_widgets": [
            "8296512d63494933be28fa6404d7421d",
            "27834343dd944d23850595ed2f7ef557",
            "63929411a26e42028a5f93a926f5ac62",
            "edbc7c6aa1fe4aba93662a4ba1cc26f7",
            "4c090a20bba940ec80b16abb21e706cb",
            "ffe764cccba544259b6654e602d1927f",
            "54114d11d6c5422ab276183e97f9945d",
            "5a1e0c42556845219dda2d36d1aa387c",
            "189d1c1189c246eba60d62fb47557de5",
            "900584e9fcee4f35862896bf30a807be",
            "1e380229517b457585a6c76365dc3d63"
          ]
        },
        "id": "uHMrKiLrBLEP",
        "outputId": "873dd6c4-b001-4adb-95f6-28bd3f734ed6"
      },
      "outputs": [
        {
          "output_type": "display_data",
          "data": {
            "text/plain": [
              "model.safetensors:   0%|          | 0.00/102M [00:00<?, ?B/s]"
            ],
            "application/vnd.jupyter.widget-view+json": {
              "version_major": 2,
              "version_minor": 0,
              "model_id": "8296512d63494933be28fa6404d7421d"
            }
          },
          "metadata": {}
        }
      ],
      "source": [
        "from transformers import AutoModelForObjectDetection\n",
        "from transformers import OwlViTProcessor, OwlViTForObjectDetection\n",
        "\n",
        "model = AutoModelForObjectDetection.from_pretrained(\n",
        "    checkpoint,\n",
        "    id2label=id2label,\n",
        "    label2id=label2id,\n",
        "    ignore_mismatched_sizes=True,\n",
        ")"
      ]
    },
    {
      "cell_type": "code",
      "execution_count": null,
      "metadata": {
        "colab": {
          "base_uri": "https://localhost:8080/"
        },
        "id": "2cbWL-h8BUB0",
        "outputId": "55f0e88b-4a37-4592-c8f6-c5c6490143ed"
      },
      "outputs": [
        {
          "output_type": "stream",
          "name": "stdout",
          "text": [
            "Requirement already satisfied: transformers[torch] in /usr/local/lib/python3.10/dist-packages (4.35.2)\n",
            "Requirement already satisfied: filelock in /usr/local/lib/python3.10/dist-packages (from transformers[torch]) (3.13.1)\n",
            "Requirement already satisfied: huggingface-hub<1.0,>=0.16.4 in /usr/local/lib/python3.10/dist-packages (from transformers[torch]) (0.19.4)\n",
            "Requirement already satisfied: numpy>=1.17 in /usr/local/lib/python3.10/dist-packages (from transformers[torch]) (1.23.5)\n",
            "Requirement already satisfied: packaging>=20.0 in /usr/local/lib/python3.10/dist-packages (from transformers[torch]) (23.2)\n",
            "Requirement already satisfied: pyyaml>=5.1 in /usr/local/lib/python3.10/dist-packages (from transformers[torch]) (6.0.1)\n",
            "Requirement already satisfied: regex!=2019.12.17 in /usr/local/lib/python3.10/dist-packages (from transformers[torch]) (2023.6.3)\n",
            "Requirement already satisfied: requests in /usr/local/lib/python3.10/dist-packages (from transformers[torch]) (2.31.0)\n",
            "Requirement already satisfied: tokenizers<0.19,>=0.14 in /usr/local/lib/python3.10/dist-packages (from transformers[torch]) (0.15.0)\n",
            "Requirement already satisfied: safetensors>=0.3.1 in /usr/local/lib/python3.10/dist-packages (from transformers[torch]) (0.4.0)\n",
            "Requirement already satisfied: tqdm>=4.27 in /usr/local/lib/python3.10/dist-packages (from transformers[torch]) (4.66.1)\n",
            "Requirement already satisfied: torch!=1.12.0,>=1.10 in /usr/local/lib/python3.10/dist-packages (from transformers[torch]) (2.1.0+cu118)\n",
            "Requirement already satisfied: accelerate>=0.20.3 in /usr/local/lib/python3.10/dist-packages (from transformers[torch]) (0.24.1)\n",
            "Requirement already satisfied: psutil in /usr/local/lib/python3.10/dist-packages (from accelerate>=0.20.3->transformers[torch]) (5.9.5)\n",
            "Requirement already satisfied: fsspec>=2023.5.0 in /usr/local/lib/python3.10/dist-packages (from huggingface-hub<1.0,>=0.16.4->transformers[torch]) (2023.6.0)\n",
            "Requirement already satisfied: typing-extensions>=3.7.4.3 in /usr/local/lib/python3.10/dist-packages (from huggingface-hub<1.0,>=0.16.4->transformers[torch]) (4.5.0)\n",
            "Requirement already satisfied: sympy in /usr/local/lib/python3.10/dist-packages (from torch!=1.12.0,>=1.10->transformers[torch]) (1.12)\n",
            "Requirement already satisfied: networkx in /usr/local/lib/python3.10/dist-packages (from torch!=1.12.0,>=1.10->transformers[torch]) (3.2.1)\n",
            "Requirement already satisfied: jinja2 in /usr/local/lib/python3.10/dist-packages (from torch!=1.12.0,>=1.10->transformers[torch]) (3.1.2)\n",
            "Requirement already satisfied: triton==2.1.0 in /usr/local/lib/python3.10/dist-packages (from torch!=1.12.0,>=1.10->transformers[torch]) (2.1.0)\n",
            "Requirement already satisfied: charset-normalizer<4,>=2 in /usr/local/lib/python3.10/dist-packages (from requests->transformers[torch]) (3.3.2)\n",
            "Requirement already satisfied: idna<4,>=2.5 in /usr/local/lib/python3.10/dist-packages (from requests->transformers[torch]) (3.4)\n",
            "Requirement already satisfied: urllib3<3,>=1.21.1 in /usr/local/lib/python3.10/dist-packages (from requests->transformers[torch]) (2.0.7)\n",
            "Requirement already satisfied: certifi>=2017.4.17 in /usr/local/lib/python3.10/dist-packages (from requests->transformers[torch]) (2023.7.22)\n",
            "Requirement already satisfied: MarkupSafe>=2.0 in /usr/local/lib/python3.10/dist-packages (from jinja2->torch!=1.12.0,>=1.10->transformers[torch]) (2.1.3)\n",
            "Requirement already satisfied: mpmath>=0.19 in /usr/local/lib/python3.10/dist-packages (from sympy->torch!=1.12.0,>=1.10->transformers[torch]) (1.3.0)\n"
          ]
        }
      ],
      "source": [
        "!pip install transformers[torch]"
      ]
    },
    {
      "cell_type": "code",
      "execution_count": null,
      "metadata": {
        "id": "lBfsr05kBMg_"
      },
      "outputs": [],
      "source": [
        "from transformers import TrainingArguments\n",
        "\n",
        "training_args = TrainingArguments(\n",
        "    output_dir=f\"/content/drive/MyDrive/Angebot/facebook-detr-resnet-50/300_epochs_subimages\",\n",
        "    per_device_train_batch_size=8,\n",
        "    num_train_epochs=number_epochs,\n",
        "    fp16=True,\n",
        "    save_strategy='no',\n",
        "    logging_strategy='epoch',\n",
        "    learning_rate=1e-5,\n",
        "    weight_decay=1e-4,\n",
        "    save_total_limit=2,\n",
        "    remove_unused_columns=False,\n",
        "    load_best_model_at_end=True,\n",
        "    #push_to_hub=True,\n",
        ")"
      ]
    },
    {
      "cell_type": "code",
      "execution_count": null,
      "metadata": {
        "id": "HXc4eO2dBOAZ"
      },
      "outputs": [],
      "source": [
        "from transformers import Trainer\n",
        "\n",
        "trainer = Trainer(\n",
        "    model=model,\n",
        "    args=training_args,\n",
        "    data_collator=collate_fn,\n",
        "    train_dataset=ab_ds[\"train\"],\n",
        "    tokenizer=image_processor,\n",
        ")"
      ]
    },
    {
      "cell_type": "code",
      "execution_count": null,
      "metadata": {
        "colab": {
          "base_uri": "https://localhost:8080/",
          "height": 1000
        },
        "id": "bBOxxcxQBOis",
        "outputId": "0dbbe42b-7d06-4389-cb9a-6508b738c2c4"
      },
      "outputs": [
        {
          "output_type": "stream",
          "name": "stderr",
          "text": [
            "The `max_size` parameter is deprecated and will be removed in v4.26. Please specify in `size['longest_edge'] instead`.\n"
          ]
        },
        {
          "output_type": "display_data",
          "data": {
            "text/plain": [
              "<IPython.core.display.HTML object>"
            ],
            "text/html": [
              "\n",
              "    <div>\n",
              "      \n",
              "      <progress value='5450' max='5450' style='width:300px; height:20px; vertical-align: middle;'></progress>\n",
              "      [5450/5450 1:59:26, Epoch 50/50]\n",
              "    </div>\n",
              "    <table border=\"1\" class=\"dataframe\">\n",
              "  <thead>\n",
              " <tr style=\"text-align: left;\">\n",
              "      <th>Step</th>\n",
              "      <th>Training Loss</th>\n",
              "    </tr>\n",
              "  </thead>\n",
              "  <tbody>\n",
              "    <tr>\n",
              "      <td>109</td>\n",
              "      <td>0.136300</td>\n",
              "    </tr>\n",
              "    <tr>\n",
              "      <td>218</td>\n",
              "      <td>0.154800</td>\n",
              "    </tr>\n",
              "    <tr>\n",
              "      <td>327</td>\n",
              "      <td>0.149500</td>\n",
              "    </tr>\n",
              "    <tr>\n",
              "      <td>436</td>\n",
              "      <td>0.154600</td>\n",
              "    </tr>\n",
              "    <tr>\n",
              "      <td>545</td>\n",
              "      <td>0.151000</td>\n",
              "    </tr>\n",
              "    <tr>\n",
              "      <td>654</td>\n",
              "      <td>0.146600</td>\n",
              "    </tr>\n",
              "    <tr>\n",
              "      <td>763</td>\n",
              "      <td>0.150600</td>\n",
              "    </tr>\n",
              "    <tr>\n",
              "      <td>872</td>\n",
              "      <td>0.149700</td>\n",
              "    </tr>\n",
              "    <tr>\n",
              "      <td>981</td>\n",
              "      <td>0.145400</td>\n",
              "    </tr>\n",
              "    <tr>\n",
              "      <td>1090</td>\n",
              "      <td>0.144200</td>\n",
              "    </tr>\n",
              "    <tr>\n",
              "      <td>1199</td>\n",
              "      <td>0.146300</td>\n",
              "    </tr>\n",
              "    <tr>\n",
              "      <td>1308</td>\n",
              "      <td>0.147000</td>\n",
              "    </tr>\n",
              "    <tr>\n",
              "      <td>1417</td>\n",
              "      <td>0.138300</td>\n",
              "    </tr>\n",
              "    <tr>\n",
              "      <td>1526</td>\n",
              "      <td>0.141400</td>\n",
              "    </tr>\n",
              "    <tr>\n",
              "      <td>1635</td>\n",
              "      <td>0.137500</td>\n",
              "    </tr>\n",
              "    <tr>\n",
              "      <td>1744</td>\n",
              "      <td>0.135900</td>\n",
              "    </tr>\n",
              "    <tr>\n",
              "      <td>1853</td>\n",
              "      <td>0.134300</td>\n",
              "    </tr>\n",
              "    <tr>\n",
              "      <td>1962</td>\n",
              "      <td>0.135000</td>\n",
              "    </tr>\n",
              "    <tr>\n",
              "      <td>2071</td>\n",
              "      <td>0.131900</td>\n",
              "    </tr>\n",
              "    <tr>\n",
              "      <td>2180</td>\n",
              "      <td>0.131800</td>\n",
              "    </tr>\n",
              "    <tr>\n",
              "      <td>2289</td>\n",
              "      <td>0.131700</td>\n",
              "    </tr>\n",
              "    <tr>\n",
              "      <td>2398</td>\n",
              "      <td>0.127000</td>\n",
              "    </tr>\n",
              "    <tr>\n",
              "      <td>2507</td>\n",
              "      <td>0.124200</td>\n",
              "    </tr>\n",
              "    <tr>\n",
              "      <td>2616</td>\n",
              "      <td>0.129300</td>\n",
              "    </tr>\n",
              "    <tr>\n",
              "      <td>2725</td>\n",
              "      <td>0.125000</td>\n",
              "    </tr>\n",
              "    <tr>\n",
              "      <td>2834</td>\n",
              "      <td>0.124900</td>\n",
              "    </tr>\n",
              "    <tr>\n",
              "      <td>2943</td>\n",
              "      <td>0.119200</td>\n",
              "    </tr>\n",
              "    <tr>\n",
              "      <td>3052</td>\n",
              "      <td>0.119600</td>\n",
              "    </tr>\n",
              "    <tr>\n",
              "      <td>3161</td>\n",
              "      <td>0.120900</td>\n",
              "    </tr>\n",
              "    <tr>\n",
              "      <td>3270</td>\n",
              "      <td>0.119800</td>\n",
              "    </tr>\n",
              "    <tr>\n",
              "      <td>3379</td>\n",
              "      <td>0.114000</td>\n",
              "    </tr>\n",
              "    <tr>\n",
              "      <td>3488</td>\n",
              "      <td>0.115600</td>\n",
              "    </tr>\n",
              "    <tr>\n",
              "      <td>3597</td>\n",
              "      <td>0.116000</td>\n",
              "    </tr>\n",
              "    <tr>\n",
              "      <td>3706</td>\n",
              "      <td>0.115000</td>\n",
              "    </tr>\n",
              "    <tr>\n",
              "      <td>3815</td>\n",
              "      <td>0.112700</td>\n",
              "    </tr>\n",
              "    <tr>\n",
              "      <td>3924</td>\n",
              "      <td>0.113200</td>\n",
              "    </tr>\n",
              "    <tr>\n",
              "      <td>4033</td>\n",
              "      <td>0.114900</td>\n",
              "    </tr>\n",
              "    <tr>\n",
              "      <td>4142</td>\n",
              "      <td>0.112300</td>\n",
              "    </tr>\n",
              "    <tr>\n",
              "      <td>4251</td>\n",
              "      <td>0.110300</td>\n",
              "    </tr>\n",
              "    <tr>\n",
              "      <td>4360</td>\n",
              "      <td>0.109000</td>\n",
              "    </tr>\n",
              "    <tr>\n",
              "      <td>4469</td>\n",
              "      <td>0.108400</td>\n",
              "    </tr>\n",
              "    <tr>\n",
              "      <td>4578</td>\n",
              "      <td>0.109100</td>\n",
              "    </tr>\n",
              "    <tr>\n",
              "      <td>4687</td>\n",
              "      <td>0.108400</td>\n",
              "    </tr>\n",
              "    <tr>\n",
              "      <td>4796</td>\n",
              "      <td>0.107900</td>\n",
              "    </tr>\n",
              "    <tr>\n",
              "      <td>4905</td>\n",
              "      <td>0.105600</td>\n",
              "    </tr>\n",
              "    <tr>\n",
              "      <td>5014</td>\n",
              "      <td>0.105500</td>\n",
              "    </tr>\n",
              "    <tr>\n",
              "      <td>5123</td>\n",
              "      <td>0.106400</td>\n",
              "    </tr>\n",
              "    <tr>\n",
              "      <td>5232</td>\n",
              "      <td>0.108800</td>\n",
              "    </tr>\n",
              "    <tr>\n",
              "      <td>5341</td>\n",
              "      <td>0.105500</td>\n",
              "    </tr>\n",
              "    <tr>\n",
              "      <td>5450</td>\n",
              "      <td>0.105000</td>\n",
              "    </tr>\n",
              "  </tbody>\n",
              "</table><p>"
            ]
          },
          "metadata": {}
        },
        {
          "output_type": "execute_result",
          "data": {
            "text/plain": [
              "TrainOutput(global_step=5450, training_loss=0.1261468225881594, metrics={'train_runtime': 7176.7353, 'train_samples_per_second': 6.04, 'train_steps_per_second': 0.759, 'total_flos': 2.0713186600128012e+19, 'train_loss': 0.1261468225881594, 'epoch': 50.0})"
            ]
          },
          "metadata": {},
          "execution_count": 21
        }
      ],
      "source": [
        "trainer.train()"
      ]
    },
    {
      "cell_type": "code",
      "execution_count": null,
      "metadata": {
        "id": "HpoYjB_zEBIh"
      },
      "outputs": [],
      "source": [
        "trainer.save_model()"
      ]
    },
    {
      "cell_type": "code",
      "execution_count": null,
      "metadata": {
        "id": "vDXtQPqwESp9",
        "colab": {
          "base_uri": "https://localhost:8080/",
          "height": 175
        },
        "outputId": "6d416249-5a86-42ef-b7de-87792344f289"
      },
      "outputs": [
        {
          "output_type": "error",
          "ename": "NameError",
          "evalue": "ignored",
          "traceback": [
            "\u001b[0;31m---------------------------------------------------------------------------\u001b[0m",
            "\u001b[0;31mNameError\u001b[0m                                 Traceback (most recent call last)",
            "\u001b[0;32m<ipython-input-23-ee4decdca3b8>\u001b[0m in \u001b[0;36m<cell line: 1>\u001b[0;34m()\u001b[0m\n\u001b[0;32m----> 1\u001b[0;31m \u001b[0mSTOP\u001b[0m\u001b[0;34m\u001b[0m\u001b[0;34m\u001b[0m\u001b[0m\n\u001b[0m",
            "\u001b[0;31mNameError\u001b[0m: name 'STOP' is not defined"
          ]
        }
      ],
      "source": [
        "STOP"
      ]
    },
    {
      "cell_type": "code",
      "execution_count": null,
      "metadata": {
        "id": "3anW19HwgUIn"
      },
      "outputs": [],
      "source": [
        "latest_model_check_path = f\"/content/drive/MyDrive/Angebot/facebook-detr-resnet-50/300_epochs_subimages\""
      ]
    },
    {
      "cell_type": "code",
      "execution_count": null,
      "metadata": {
        "id": "aYkul8XdZaiO",
        "colab": {
          "base_uri": "https://localhost:8080/",
          "height": 560
        },
        "outputId": "eef3d751-22c4-4883-ace8-b4a39f5799ac"
      },
      "outputs": [
        {
          "output_type": "error",
          "ename": "ImportError",
          "evalue": "ignored",
          "traceback": [
            "\u001b[0;31m---------------------------------------------------------------------------\u001b[0m",
            "\u001b[0;31mImportError\u001b[0m                               Traceback (most recent call last)",
            "\u001b[0;32m<ipython-input-17-0aa83e8f25fc>\u001b[0m in \u001b[0;36m<cell line: 5>\u001b[0;34m()\u001b[0m\n\u001b[1;32m      3\u001b[0m \u001b[0;34m\u001b[0m\u001b[0m\n\u001b[1;32m      4\u001b[0m \u001b[0mim_processor\u001b[0m \u001b[0;34m=\u001b[0m \u001b[0mAutoImageProcessor\u001b[0m\u001b[0;34m.\u001b[0m\u001b[0mfrom_pretrained\u001b[0m\u001b[0;34m(\u001b[0m\u001b[0mlatest_model_check_path\u001b[0m\u001b[0;34m)\u001b[0m\u001b[0;34m\u001b[0m\u001b[0;34m\u001b[0m\u001b[0m\n\u001b[0;32m----> 5\u001b[0;31m \u001b[0mmodel\u001b[0m \u001b[0;34m=\u001b[0m \u001b[0mAutoModelForObjectDetection\u001b[0m\u001b[0;34m.\u001b[0m\u001b[0mfrom_pretrained\u001b[0m\u001b[0;34m(\u001b[0m\u001b[0mlatest_model_check_path\u001b[0m\u001b[0;34m)\u001b[0m\u001b[0;34m\u001b[0m\u001b[0;34m\u001b[0m\u001b[0m\n\u001b[0m",
            "\u001b[0;32m/usr/local/lib/python3.10/dist-packages/transformers/models/auto/auto_factory.py\u001b[0m in \u001b[0;36mfrom_pretrained\u001b[0;34m(cls, pretrained_model_name_or_path, *model_args, **kwargs)\u001b[0m\n\u001b[1;32m    564\u001b[0m         \u001b[0;32melif\u001b[0m \u001b[0mtype\u001b[0m\u001b[0;34m(\u001b[0m\u001b[0mconfig\u001b[0m\u001b[0;34m)\u001b[0m \u001b[0;32min\u001b[0m \u001b[0mcls\u001b[0m\u001b[0;34m.\u001b[0m\u001b[0m_model_mapping\u001b[0m\u001b[0;34m.\u001b[0m\u001b[0mkeys\u001b[0m\u001b[0;34m(\u001b[0m\u001b[0;34m)\u001b[0m\u001b[0;34m:\u001b[0m\u001b[0;34m\u001b[0m\u001b[0;34m\u001b[0m\u001b[0m\n\u001b[1;32m    565\u001b[0m             \u001b[0mmodel_class\u001b[0m \u001b[0;34m=\u001b[0m \u001b[0m_get_model_class\u001b[0m\u001b[0;34m(\u001b[0m\u001b[0mconfig\u001b[0m\u001b[0;34m,\u001b[0m \u001b[0mcls\u001b[0m\u001b[0;34m.\u001b[0m\u001b[0m_model_mapping\u001b[0m\u001b[0;34m)\u001b[0m\u001b[0;34m\u001b[0m\u001b[0;34m\u001b[0m\u001b[0m\n\u001b[0;32m--> 566\u001b[0;31m             return model_class.from_pretrained(\n\u001b[0m\u001b[1;32m    567\u001b[0m                 \u001b[0mpretrained_model_name_or_path\u001b[0m\u001b[0;34m,\u001b[0m \u001b[0;34m*\u001b[0m\u001b[0mmodel_args\u001b[0m\u001b[0;34m,\u001b[0m \u001b[0mconfig\u001b[0m\u001b[0;34m=\u001b[0m\u001b[0mconfig\u001b[0m\u001b[0;34m,\u001b[0m \u001b[0;34m**\u001b[0m\u001b[0mhub_kwargs\u001b[0m\u001b[0;34m,\u001b[0m \u001b[0;34m**\u001b[0m\u001b[0mkwargs\u001b[0m\u001b[0;34m\u001b[0m\u001b[0;34m\u001b[0m\u001b[0m\n\u001b[1;32m    568\u001b[0m             )\n",
            "\u001b[0;32m/usr/local/lib/python3.10/dist-packages/transformers/modeling_utils.py\u001b[0m in \u001b[0;36mfrom_pretrained\u001b[0;34m(cls, pretrained_model_name_or_path, config, cache_dir, ignore_mismatched_sizes, force_download, local_files_only, token, revision, use_safetensors, *model_args, **kwargs)\u001b[0m\n\u001b[1;32m   3234\u001b[0m \u001b[0;34m\u001b[0m\u001b[0m\n\u001b[1;32m   3235\u001b[0m         \u001b[0;32mwith\u001b[0m \u001b[0mContextManagers\u001b[0m\u001b[0;34m(\u001b[0m\u001b[0minit_contexts\u001b[0m\u001b[0;34m)\u001b[0m\u001b[0;34m:\u001b[0m\u001b[0;34m\u001b[0m\u001b[0;34m\u001b[0m\u001b[0m\n\u001b[0;32m-> 3236\u001b[0;31m             \u001b[0mmodel\u001b[0m \u001b[0;34m=\u001b[0m \u001b[0mcls\u001b[0m\u001b[0;34m(\u001b[0m\u001b[0mconfig\u001b[0m\u001b[0;34m,\u001b[0m \u001b[0;34m*\u001b[0m\u001b[0mmodel_args\u001b[0m\u001b[0;34m,\u001b[0m \u001b[0;34m**\u001b[0m\u001b[0mmodel_kwargs\u001b[0m\u001b[0;34m)\u001b[0m\u001b[0;34m\u001b[0m\u001b[0;34m\u001b[0m\u001b[0m\n\u001b[0m\u001b[1;32m   3237\u001b[0m \u001b[0;34m\u001b[0m\u001b[0m\n\u001b[1;32m   3238\u001b[0m         \u001b[0;31m# make sure we use the model's config since the __init__ call might have copied it\u001b[0m\u001b[0;34m\u001b[0m\u001b[0;34m\u001b[0m\u001b[0m\n",
            "\u001b[0;32m/usr/local/lib/python3.10/dist-packages/transformers/models/detr/modeling_detr.py\u001b[0m in \u001b[0;36m__init__\u001b[0;34m(self, config)\u001b[0m\n\u001b[1;32m   1474\u001b[0m \u001b[0;34m\u001b[0m\u001b[0m\n\u001b[1;32m   1475\u001b[0m         \u001b[0;31m# DETR encoder-decoder model\u001b[0m\u001b[0;34m\u001b[0m\u001b[0;34m\u001b[0m\u001b[0m\n\u001b[0;32m-> 1476\u001b[0;31m         \u001b[0mself\u001b[0m\u001b[0;34m.\u001b[0m\u001b[0mmodel\u001b[0m \u001b[0;34m=\u001b[0m \u001b[0mDetrModel\u001b[0m\u001b[0;34m(\u001b[0m\u001b[0mconfig\u001b[0m\u001b[0;34m)\u001b[0m\u001b[0;34m\u001b[0m\u001b[0;34m\u001b[0m\u001b[0m\n\u001b[0m\u001b[1;32m   1477\u001b[0m \u001b[0;34m\u001b[0m\u001b[0m\n\u001b[1;32m   1478\u001b[0m         \u001b[0;31m# Object detection heads\u001b[0m\u001b[0;34m\u001b[0m\u001b[0;34m\u001b[0m\u001b[0m\n",
            "\u001b[0;32m/usr/local/lib/python3.10/dist-packages/transformers/models/detr/modeling_detr.py\u001b[0m in \u001b[0;36m__init__\u001b[0;34m(self, config)\u001b[0m\n\u001b[1;32m   1306\u001b[0m \u001b[0;34m\u001b[0m\u001b[0m\n\u001b[1;32m   1307\u001b[0m         \u001b[0;31m# Create backbone + positional encoding\u001b[0m\u001b[0;34m\u001b[0m\u001b[0;34m\u001b[0m\u001b[0m\n\u001b[0;32m-> 1308\u001b[0;31m         \u001b[0mbackbone\u001b[0m \u001b[0;34m=\u001b[0m \u001b[0mDetrConvEncoder\u001b[0m\u001b[0;34m(\u001b[0m\u001b[0mconfig\u001b[0m\u001b[0;34m)\u001b[0m\u001b[0;34m\u001b[0m\u001b[0;34m\u001b[0m\u001b[0m\n\u001b[0m\u001b[1;32m   1309\u001b[0m         \u001b[0mobject_queries\u001b[0m \u001b[0;34m=\u001b[0m \u001b[0mbuild_position_encoding\u001b[0m\u001b[0;34m(\u001b[0m\u001b[0mconfig\u001b[0m\u001b[0;34m)\u001b[0m\u001b[0;34m\u001b[0m\u001b[0;34m\u001b[0m\u001b[0m\n\u001b[1;32m   1310\u001b[0m         \u001b[0mself\u001b[0m\u001b[0;34m.\u001b[0m\u001b[0mbackbone\u001b[0m \u001b[0;34m=\u001b[0m \u001b[0mDetrConvModel\u001b[0m\u001b[0;34m(\u001b[0m\u001b[0mbackbone\u001b[0m\u001b[0;34m,\u001b[0m \u001b[0mobject_queries\u001b[0m\u001b[0;34m)\u001b[0m\u001b[0;34m\u001b[0m\u001b[0;34m\u001b[0m\u001b[0m\n",
            "\u001b[0;32m/usr/local/lib/python3.10/dist-packages/transformers/models/detr/modeling_detr.py\u001b[0m in \u001b[0;36m__init__\u001b[0;34m(self, config)\u001b[0m\n\u001b[1;32m    344\u001b[0m \u001b[0;34m\u001b[0m\u001b[0m\n\u001b[1;32m    345\u001b[0m         \u001b[0;32mif\u001b[0m \u001b[0mconfig\u001b[0m\u001b[0;34m.\u001b[0m\u001b[0muse_timm_backbone\u001b[0m\u001b[0;34m:\u001b[0m\u001b[0;34m\u001b[0m\u001b[0;34m\u001b[0m\u001b[0m\n\u001b[0;32m--> 346\u001b[0;31m             \u001b[0mrequires_backends\u001b[0m\u001b[0;34m(\u001b[0m\u001b[0mself\u001b[0m\u001b[0;34m,\u001b[0m \u001b[0;34m[\u001b[0m\u001b[0;34m\"timm\"\u001b[0m\u001b[0;34m]\u001b[0m\u001b[0;34m)\u001b[0m\u001b[0;34m\u001b[0m\u001b[0;34m\u001b[0m\u001b[0m\n\u001b[0m\u001b[1;32m    347\u001b[0m             \u001b[0mkwargs\u001b[0m \u001b[0;34m=\u001b[0m \u001b[0;34m{\u001b[0m\u001b[0;34m}\u001b[0m\u001b[0;34m\u001b[0m\u001b[0;34m\u001b[0m\u001b[0m\n\u001b[1;32m    348\u001b[0m             \u001b[0;32mif\u001b[0m \u001b[0mconfig\u001b[0m\u001b[0;34m.\u001b[0m\u001b[0mdilation\u001b[0m\u001b[0;34m:\u001b[0m\u001b[0;34m\u001b[0m\u001b[0;34m\u001b[0m\u001b[0m\n",
            "\u001b[0;32m/usr/local/lib/python3.10/dist-packages/transformers/utils/import_utils.py\u001b[0m in \u001b[0;36mrequires_backends\u001b[0;34m(obj, backends)\u001b[0m\n\u001b[1;32m   1245\u001b[0m     \u001b[0mfailed\u001b[0m \u001b[0;34m=\u001b[0m \u001b[0;34m[\u001b[0m\u001b[0mmsg\u001b[0m\u001b[0;34m.\u001b[0m\u001b[0mformat\u001b[0m\u001b[0;34m(\u001b[0m\u001b[0mname\u001b[0m\u001b[0;34m)\u001b[0m \u001b[0;32mfor\u001b[0m \u001b[0mavailable\u001b[0m\u001b[0;34m,\u001b[0m \u001b[0mmsg\u001b[0m \u001b[0;32min\u001b[0m \u001b[0mchecks\u001b[0m \u001b[0;32mif\u001b[0m \u001b[0;32mnot\u001b[0m \u001b[0mavailable\u001b[0m\u001b[0;34m(\u001b[0m\u001b[0;34m)\u001b[0m\u001b[0;34m]\u001b[0m\u001b[0;34m\u001b[0m\u001b[0;34m\u001b[0m\u001b[0m\n\u001b[1;32m   1246\u001b[0m     \u001b[0;32mif\u001b[0m \u001b[0mfailed\u001b[0m\u001b[0;34m:\u001b[0m\u001b[0;34m\u001b[0m\u001b[0;34m\u001b[0m\u001b[0m\n\u001b[0;32m-> 1247\u001b[0;31m         \u001b[0;32mraise\u001b[0m \u001b[0mImportError\u001b[0m\u001b[0;34m(\u001b[0m\u001b[0;34m\"\"\u001b[0m\u001b[0;34m.\u001b[0m\u001b[0mjoin\u001b[0m\u001b[0;34m(\u001b[0m\u001b[0mfailed\u001b[0m\u001b[0;34m)\u001b[0m\u001b[0;34m)\u001b[0m\u001b[0;34m\u001b[0m\u001b[0;34m\u001b[0m\u001b[0m\n\u001b[0m\u001b[1;32m   1248\u001b[0m \u001b[0;34m\u001b[0m\u001b[0m\n\u001b[1;32m   1249\u001b[0m \u001b[0;34m\u001b[0m\u001b[0m\n",
            "\u001b[0;31mImportError\u001b[0m: \nDetrConvEncoder requires the timm library but it was not found in your environment. You can install it with pip:\n`pip install timm`. Please note that you may need to restart your runtime after installation.\n",
            "",
            "\u001b[0;31m---------------------------------------------------------------------------\u001b[0;32m\nNOTE: If your import is failing due to a missing package, you can\nmanually install dependencies using either !pip or !apt.\n\nTo view examples of installing some common dependencies, click the\n\"Open Examples\" button below.\n\u001b[0;31m---------------------------------------------------------------------------\u001b[0m\n"
          ],
          "errorDetails": {
            "actions": [
              {
                "action": "open_url",
                "actionText": "Open Examples",
                "url": "/notebooks/snippets/importing_libraries.ipynb"
              }
            ]
          }
        }
      ],
      "source": [
        "from transformers import AutoImageProcessor\n",
        "from transformers import AutoModelForObjectDetection\n",
        "\n",
        "im_processor = AutoImageProcessor.from_pretrained(latest_model_check_path)\n",
        "model = AutoModelForObjectDetection.from_pretrained(latest_model_check_path)"
      ]
    },
    {
      "cell_type": "code",
      "execution_count": null,
      "metadata": {
        "id": "m28ykfr7fR3r"
      },
      "outputs": [],
      "source": [
        "import json\n",
        "\n",
        "\n",
        "# format annotations the same as for training, no need for data augmentation\n",
        "def val_formatted_anns(image_id, objects):\n",
        "    annotations = []\n",
        "    for i in range(0, len(objects[\"id\"])):\n",
        "        new_ann = {\n",
        "            \"id\": objects[\"id\"][i],\n",
        "            \"category_id\": objects[\"category\"][i],\n",
        "            \"iscrowd\": 0,\n",
        "            \"image_id\": image_id,\n",
        "            \"area\": objects[\"area\"][i],\n",
        "            \"bbox\": objects[\"bbox\"][i],\n",
        "        }\n",
        "        annotations.append(new_ann)\n",
        "\n",
        "    return annotations\n",
        "\n",
        "\n",
        "# Save images and annotations into the files torchvision.datasets.CocoDetection expects\n",
        "def save_cppe5_annotation_file_images(cppe5):\n",
        "    output_json = {}\n",
        "    path_output_cppe5 = f\"{os.getcwd()}/cppe5/\"\n",
        "\n",
        "    if not os.path.exists(path_output_cppe5):\n",
        "        os.makedirs(path_output_cppe5)\n",
        "\n",
        "    path_anno = os.path.join(path_output_cppe5, \"cppe5_ann.json\")\n",
        "    categories_json = [{\"supercategory\": \"none\", \"id\": id, \"name\": id2label[id]} for id in id2label]\n",
        "    output_json[\"images\"] = []\n",
        "    output_json[\"annotations\"] = []\n",
        "    for example in cppe5:\n",
        "        ann = val_formatted_anns(example[\"image_id\"], example[\"objects\"])\n",
        "        output_json[\"images\"].append(\n",
        "            {\n",
        "                \"id\": example[\"image_id\"],\n",
        "                \"width\": example[\"image\"].width,\n",
        "                \"height\": example[\"image\"].height,\n",
        "                \"file_name\": f\"{example['image_id']}.png\",\n",
        "            }\n",
        "        )\n",
        "        output_json[\"annotations\"].extend(ann)\n",
        "    output_json[\"categories\"] = categories_json\n",
        "\n",
        "    with open(path_anno, \"w\") as file:\n",
        "        json.dump(output_json, file, ensure_ascii=False, indent=4)\n",
        "\n",
        "    for im, img_id in zip(cppe5[\"image\"], cppe5[\"image_id\"]):\n",
        "        path_img = os.path.join(path_output_cppe5, f\"{img_id}.png\")\n",
        "        im.save(path_img)\n",
        "\n",
        "    return path_output_cppe5, path_anno"
      ]
    },
    {
      "cell_type": "code",
      "execution_count": null,
      "metadata": {
        "id": "kWXUq8gTgvm_"
      },
      "outputs": [],
      "source": [
        "import torchvision\n",
        "from transformers import AutoImageProcessor\n",
        "import os\n",
        "\n",
        "class CocoDetection(torchvision.datasets.CocoDetection):\n",
        "    def __init__(self, img_folder, image_processor, ann_file):\n",
        "        super().__init__(img_folder, ann_file)\n",
        "        self.image_processor = image_processor\n",
        "\n",
        "    def __getitem__(self, idx):\n",
        "        # read in PIL image and target in COCO format\n",
        "        img, target = super(CocoDetection, self).__getitem__(idx)\n",
        "\n",
        "        # preprocess image and target: converting target to DETR format,\n",
        "        # resizing + normalization of both image and target)\n",
        "        image_id = self.ids[idx]\n",
        "        target = {\"image_id\": image_id, \"annotations\": target}\n",
        "        encoding = self.image_processor(images=img, annotations=target, return_tensors=\"pt\")\n",
        "        pixel_values = encoding[\"pixel_values\"].squeeze()  # remove batch dimension\n",
        "        target = encoding[\"labels\"][0]  # remove batch dimension\n",
        "\n",
        "        return {\"pixel_values\": pixel_values, \"labels\": target}\n",
        "\n",
        "\n",
        "im_processor = AutoImageProcessor.from_pretrained(latest_model_check_path)\n",
        "\n",
        "path_output_ab_ds, path_anno = save_cppe5_annotation_file_images(ab_ds[\"test\"])\n",
        "test_ds_coco_format = CocoDetection(path_output_ab_ds, im_processor, path_anno)"
      ]
    },
    {
      "cell_type": "code",
      "execution_count": null,
      "metadata": {
        "id": "iClEQ_oZgwDI"
      },
      "outputs": [],
      "source": [
        "import evaluate\n",
        "from tqdm import tqdm\n",
        "import torch\n",
        "\n",
        "model = AutoModelForObjectDetection.from_pretrained(latest_model_check_path)\n",
        "module = evaluate.load(\"ybelkada/cocoevaluate\", coco=test_ds_coco_format.coco)\n",
        "val_dataloader = torch.utils.data.DataLoader(\n",
        "    test_ds_coco_format, batch_size=8, shuffle=False, num_workers=4, collate_fn=collate_fn\n",
        ")\n",
        "\n",
        "with torch.no_grad():\n",
        "    for idx, batch in enumerate(tqdm(val_dataloader)):\n",
        "        pixel_values = batch[\"pixel_values\"]\n",
        "        pixel_mask = batch[\"pixel_mask\"]\n",
        "\n",
        "        labels = [\n",
        "            {k: v for k, v in t.items()} for t in batch[\"labels\"]\n",
        "        ]  # these are in DETR format, resized + normalized\n",
        "\n",
        "        # forward pass\n",
        "        outputs = model(pixel_values=pixel_values, pixel_mask=pixel_mask)\n",
        "\n",
        "        orig_target_sizes = torch.stack([target[\"orig_size\"] for target in labels], dim=0)\n",
        "        results = im_processor.post_process(outputs, orig_target_sizes)  # convert outputs of model to COCO api\n",
        "\n",
        "        module.add(prediction=results, reference=labels)\n",
        "        del batch\n",
        "\n",
        "results = module.compute()\n",
        "print(results)"
      ]
    },
    {
      "cell_type": "code",
      "execution_count": null,
      "metadata": {
        "id": "qTXxDXg3xI-r"
      },
      "outputs": [],
      "source": [
        "import json\n",
        "with open(f'{latest_model_check_path}/results.json','w') as f:\n",
        "  f.write(json.dumps(results))\n"
      ]
    },
    {
      "cell_type": "code",
      "execution_count": null,
      "metadata": {
        "id": "Z5FcE2M5xhE8"
      },
      "outputs": [],
      "source": [
        "latest_model_check_path"
      ]
    },
    {
      "cell_type": "code",
      "execution_count": null,
      "metadata": {
        "id": "2RyeRmhzg5oB"
      },
      "outputs": [],
      "source": [
        "from transformers import pipeline\n",
        "import requests\n",
        "import os\n",
        "\n",
        "img_path = \"/content/drive/MyDrive/Angebot/images/150e7743-letok-01-2023-web_24.png\"\n",
        "image = Image.open(img_path)\n",
        "\n",
        "obj_detector = pipeline(\"object-detection\", model=latest_model_check_path)\n",
        "bbx_info = obj_detector(image)"
      ]
    },
    {
      "cell_type": "code",
      "source": [
        "img = angebot_dataset[100]['image']\n",
        "obj_detector = pipeline(\"object-detection\", model=latest_model_check_path)\n",
        "bbx_info = obj_detector(image)\n",
        "bbx_info"
      ],
      "metadata": {
        "id": "E3E03ZfoRFcK"
      },
      "execution_count": null,
      "outputs": []
    },
    {
      "cell_type": "code",
      "source": [
        "img"
      ],
      "metadata": {
        "id": "1D9UpyOEuxtQ"
      },
      "execution_count": null,
      "outputs": []
    },
    {
      "cell_type": "code",
      "execution_count": null,
      "metadata": {
        "id": "Kn1ip4Tmwkx1"
      },
      "outputs": [],
      "source": [
        "bbx_info = [bbx for bbx in bbx_info if bbx['score']> 0.9]\n",
        "bbx_info"
      ]
    },
    {
      "cell_type": "code",
      "source": [
        "def draw_bbx_on_in_mem_img(img,bbx_info):\n",
        "  draw = ImageDraw.Draw(img)\n",
        "  for bb in bbx_info:\n",
        "    label = bb['label']\n",
        "    score = bb['score']\n",
        "    box = bb['box']\n",
        "    x,y,w,h = box['xmin'],box['ymin'],box['xmax'],box['ymax']\n",
        "    draw.rectangle((x, y, w, h), outline=\"red\", width=1)\n",
        "    draw.text((x, y), f'{label} Score: {score}', fill=\"black\")\n",
        "\n",
        "  return img"
      ],
      "metadata": {
        "id": "dyMJUw_AAWe4"
      },
      "execution_count": null,
      "outputs": []
    },
    {
      "cell_type": "code",
      "source": [
        "draw_bbx_on_in_mem_img(img,bbx_info)"
      ],
      "metadata": {
        "id": "WIZO1DLeAiQ0"
      },
      "execution_count": null,
      "outputs": []
    },
    {
      "cell_type": "code",
      "execution_count": null,
      "metadata": {
        "id": "8pv_R0ACoKR5"
      },
      "outputs": [],
      "source": [
        "def draw_bbx_on_img(img_path,bbx_info):\n",
        "  image = Image.open(img_path)\n",
        "  draw = ImageDraw.Draw(image)\n",
        "  for bb in bbx_info:\n",
        "    label = bb['label']\n",
        "    score = bb['score']\n",
        "    box = bb['box']\n",
        "    x,y,w,h = box['xmin'],box['ymin'],box['xmax'],box['ymax']\n",
        "    draw.rectangle((x, y, x + w, y + h), outline=\"red\", width=1)\n",
        "    draw.text((x, y), f'{label} Score: {score}', fill=\"black\")\n",
        "\n",
        "  return image"
      ]
    },
    {
      "cell_type": "code",
      "execution_count": null,
      "metadata": {
        "id": "J3GiSKy1X8DC"
      },
      "outputs": [],
      "source": [
        "def check_for_results(img_path,model):\n",
        "  img_path = img_path\n",
        "  image = Image.open(img_path)\n",
        "\n",
        "  obj_detector = pipeline(\"object-detection\", model=model)\n",
        "  objects = obj_detector(image)\n",
        "  return True if len(objects)>0 else False"
      ]
    },
    {
      "cell_type": "code",
      "source": [],
      "metadata": {
        "id": "mhEH9HPPvVnr"
      },
      "execution_count": null,
      "outputs": []
    }
  ],
  "metadata": {
    "colab": {
      "provenance": [],
      "gpuType": "T4"
    },
    "kernelspec": {
      "display_name": "Python 3",
      "name": "python3"
    },
    "language_info": {
      "name": "python"
    },
    "accelerator": "GPU",
    "widgets": {
      "application/vnd.jupyter.widget-state+json": {
        "8296512d63494933be28fa6404d7421d": {
          "model_module": "@jupyter-widgets/controls",
          "model_name": "HBoxModel",
          "model_module_version": "1.5.0",
          "state": {
            "_dom_classes": [],
            "_model_module": "@jupyter-widgets/controls",
            "_model_module_version": "1.5.0",
            "_model_name": "HBoxModel",
            "_view_count": null,
            "_view_module": "@jupyter-widgets/controls",
            "_view_module_version": "1.5.0",
            "_view_name": "HBoxView",
            "box_style": "",
            "children": [
              "IPY_MODEL_27834343dd944d23850595ed2f7ef557",
              "IPY_MODEL_63929411a26e42028a5f93a926f5ac62",
              "IPY_MODEL_edbc7c6aa1fe4aba93662a4ba1cc26f7"
            ],
            "layout": "IPY_MODEL_4c090a20bba940ec80b16abb21e706cb"
          }
        },
        "27834343dd944d23850595ed2f7ef557": {
          "model_module": "@jupyter-widgets/controls",
          "model_name": "HTMLModel",
          "model_module_version": "1.5.0",
          "state": {
            "_dom_classes": [],
            "_model_module": "@jupyter-widgets/controls",
            "_model_module_version": "1.5.0",
            "_model_name": "HTMLModel",
            "_view_count": null,
            "_view_module": "@jupyter-widgets/controls",
            "_view_module_version": "1.5.0",
            "_view_name": "HTMLView",
            "description": "",
            "description_tooltip": null,
            "layout": "IPY_MODEL_ffe764cccba544259b6654e602d1927f",
            "placeholder": "​",
            "style": "IPY_MODEL_54114d11d6c5422ab276183e97f9945d",
            "value": "model.safetensors: 100%"
          }
        },
        "63929411a26e42028a5f93a926f5ac62": {
          "model_module": "@jupyter-widgets/controls",
          "model_name": "FloatProgressModel",
          "model_module_version": "1.5.0",
          "state": {
            "_dom_classes": [],
            "_model_module": "@jupyter-widgets/controls",
            "_model_module_version": "1.5.0",
            "_model_name": "FloatProgressModel",
            "_view_count": null,
            "_view_module": "@jupyter-widgets/controls",
            "_view_module_version": "1.5.0",
            "_view_name": "ProgressView",
            "bar_style": "success",
            "description": "",
            "description_tooltip": null,
            "layout": "IPY_MODEL_5a1e0c42556845219dda2d36d1aa387c",
            "max": 102469840,
            "min": 0,
            "orientation": "horizontal",
            "style": "IPY_MODEL_189d1c1189c246eba60d62fb47557de5",
            "value": 102469840
          }
        },
        "edbc7c6aa1fe4aba93662a4ba1cc26f7": {
          "model_module": "@jupyter-widgets/controls",
          "model_name": "HTMLModel",
          "model_module_version": "1.5.0",
          "state": {
            "_dom_classes": [],
            "_model_module": "@jupyter-widgets/controls",
            "_model_module_version": "1.5.0",
            "_model_name": "HTMLModel",
            "_view_count": null,
            "_view_module": "@jupyter-widgets/controls",
            "_view_module_version": "1.5.0",
            "_view_name": "HTMLView",
            "description": "",
            "description_tooltip": null,
            "layout": "IPY_MODEL_900584e9fcee4f35862896bf30a807be",
            "placeholder": "​",
            "style": "IPY_MODEL_1e380229517b457585a6c76365dc3d63",
            "value": " 102M/102M [00:01&lt;00:00, 109MB/s]"
          }
        },
        "4c090a20bba940ec80b16abb21e706cb": {
          "model_module": "@jupyter-widgets/base",
          "model_name": "LayoutModel",
          "model_module_version": "1.2.0",
          "state": {
            "_model_module": "@jupyter-widgets/base",
            "_model_module_version": "1.2.0",
            "_model_name": "LayoutModel",
            "_view_count": null,
            "_view_module": "@jupyter-widgets/base",
            "_view_module_version": "1.2.0",
            "_view_name": "LayoutView",
            "align_content": null,
            "align_items": null,
            "align_self": null,
            "border": null,
            "bottom": null,
            "display": null,
            "flex": null,
            "flex_flow": null,
            "grid_area": null,
            "grid_auto_columns": null,
            "grid_auto_flow": null,
            "grid_auto_rows": null,
            "grid_column": null,
            "grid_gap": null,
            "grid_row": null,
            "grid_template_areas": null,
            "grid_template_columns": null,
            "grid_template_rows": null,
            "height": null,
            "justify_content": null,
            "justify_items": null,
            "left": null,
            "margin": null,
            "max_height": null,
            "max_width": null,
            "min_height": null,
            "min_width": null,
            "object_fit": null,
            "object_position": null,
            "order": null,
            "overflow": null,
            "overflow_x": null,
            "overflow_y": null,
            "padding": null,
            "right": null,
            "top": null,
            "visibility": null,
            "width": null
          }
        },
        "ffe764cccba544259b6654e602d1927f": {
          "model_module": "@jupyter-widgets/base",
          "model_name": "LayoutModel",
          "model_module_version": "1.2.0",
          "state": {
            "_model_module": "@jupyter-widgets/base",
            "_model_module_version": "1.2.0",
            "_model_name": "LayoutModel",
            "_view_count": null,
            "_view_module": "@jupyter-widgets/base",
            "_view_module_version": "1.2.0",
            "_view_name": "LayoutView",
            "align_content": null,
            "align_items": null,
            "align_self": null,
            "border": null,
            "bottom": null,
            "display": null,
            "flex": null,
            "flex_flow": null,
            "grid_area": null,
            "grid_auto_columns": null,
            "grid_auto_flow": null,
            "grid_auto_rows": null,
            "grid_column": null,
            "grid_gap": null,
            "grid_row": null,
            "grid_template_areas": null,
            "grid_template_columns": null,
            "grid_template_rows": null,
            "height": null,
            "justify_content": null,
            "justify_items": null,
            "left": null,
            "margin": null,
            "max_height": null,
            "max_width": null,
            "min_height": null,
            "min_width": null,
            "object_fit": null,
            "object_position": null,
            "order": null,
            "overflow": null,
            "overflow_x": null,
            "overflow_y": null,
            "padding": null,
            "right": null,
            "top": null,
            "visibility": null,
            "width": null
          }
        },
        "54114d11d6c5422ab276183e97f9945d": {
          "model_module": "@jupyter-widgets/controls",
          "model_name": "DescriptionStyleModel",
          "model_module_version": "1.5.0",
          "state": {
            "_model_module": "@jupyter-widgets/controls",
            "_model_module_version": "1.5.0",
            "_model_name": "DescriptionStyleModel",
            "_view_count": null,
            "_view_module": "@jupyter-widgets/base",
            "_view_module_version": "1.2.0",
            "_view_name": "StyleView",
            "description_width": ""
          }
        },
        "5a1e0c42556845219dda2d36d1aa387c": {
          "model_module": "@jupyter-widgets/base",
          "model_name": "LayoutModel",
          "model_module_version": "1.2.0",
          "state": {
            "_model_module": "@jupyter-widgets/base",
            "_model_module_version": "1.2.0",
            "_model_name": "LayoutModel",
            "_view_count": null,
            "_view_module": "@jupyter-widgets/base",
            "_view_module_version": "1.2.0",
            "_view_name": "LayoutView",
            "align_content": null,
            "align_items": null,
            "align_self": null,
            "border": null,
            "bottom": null,
            "display": null,
            "flex": null,
            "flex_flow": null,
            "grid_area": null,
            "grid_auto_columns": null,
            "grid_auto_flow": null,
            "grid_auto_rows": null,
            "grid_column": null,
            "grid_gap": null,
            "grid_row": null,
            "grid_template_areas": null,
            "grid_template_columns": null,
            "grid_template_rows": null,
            "height": null,
            "justify_content": null,
            "justify_items": null,
            "left": null,
            "margin": null,
            "max_height": null,
            "max_width": null,
            "min_height": null,
            "min_width": null,
            "object_fit": null,
            "object_position": null,
            "order": null,
            "overflow": null,
            "overflow_x": null,
            "overflow_y": null,
            "padding": null,
            "right": null,
            "top": null,
            "visibility": null,
            "width": null
          }
        },
        "189d1c1189c246eba60d62fb47557de5": {
          "model_module": "@jupyter-widgets/controls",
          "model_name": "ProgressStyleModel",
          "model_module_version": "1.5.0",
          "state": {
            "_model_module": "@jupyter-widgets/controls",
            "_model_module_version": "1.5.0",
            "_model_name": "ProgressStyleModel",
            "_view_count": null,
            "_view_module": "@jupyter-widgets/base",
            "_view_module_version": "1.2.0",
            "_view_name": "StyleView",
            "bar_color": null,
            "description_width": ""
          }
        },
        "900584e9fcee4f35862896bf30a807be": {
          "model_module": "@jupyter-widgets/base",
          "model_name": "LayoutModel",
          "model_module_version": "1.2.0",
          "state": {
            "_model_module": "@jupyter-widgets/base",
            "_model_module_version": "1.2.0",
            "_model_name": "LayoutModel",
            "_view_count": null,
            "_view_module": "@jupyter-widgets/base",
            "_view_module_version": "1.2.0",
            "_view_name": "LayoutView",
            "align_content": null,
            "align_items": null,
            "align_self": null,
            "border": null,
            "bottom": null,
            "display": null,
            "flex": null,
            "flex_flow": null,
            "grid_area": null,
            "grid_auto_columns": null,
            "grid_auto_flow": null,
            "grid_auto_rows": null,
            "grid_column": null,
            "grid_gap": null,
            "grid_row": null,
            "grid_template_areas": null,
            "grid_template_columns": null,
            "grid_template_rows": null,
            "height": null,
            "justify_content": null,
            "justify_items": null,
            "left": null,
            "margin": null,
            "max_height": null,
            "max_width": null,
            "min_height": null,
            "min_width": null,
            "object_fit": null,
            "object_position": null,
            "order": null,
            "overflow": null,
            "overflow_x": null,
            "overflow_y": null,
            "padding": null,
            "right": null,
            "top": null,
            "visibility": null,
            "width": null
          }
        },
        "1e380229517b457585a6c76365dc3d63": {
          "model_module": "@jupyter-widgets/controls",
          "model_name": "DescriptionStyleModel",
          "model_module_version": "1.5.0",
          "state": {
            "_model_module": "@jupyter-widgets/controls",
            "_model_module_version": "1.5.0",
            "_model_name": "DescriptionStyleModel",
            "_view_count": null,
            "_view_module": "@jupyter-widgets/base",
            "_view_module_version": "1.2.0",
            "_view_name": "StyleView",
            "description_width": ""
          }
        }
      }
    }
  },
  "nbformat": 4,
  "nbformat_minor": 0
}