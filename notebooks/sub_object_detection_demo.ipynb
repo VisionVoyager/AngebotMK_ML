{
  "cells": [
    {
      "cell_type": "code",
      "execution_count": 2,
      "metadata": {
        "id": "K_aC3VIfVAXU"
      },
      "outputs": [],
      "source": [
        "import json\n",
        "\n",
        "data_path = '../angebot_data'\n",
        "\n",
        "with open(data_path+'/result.json', 'r') as f:\n",
        "  angebot = json.load(f)"
      ]
    },
    {
      "cell_type": "code",
      "execution_count": 3,
      "metadata": {
        "id": "bdfSPF9sbiE0"
      },
      "outputs": [
        {
          "name": "stderr",
          "output_type": "stream",
          "text": [
            "/home/tomislav/miniconda3/envs/angebot_ml/lib/python3.9/site-packages/tqdm/auto.py:21: TqdmWarning: IProgress not found. Please update jupyter and ipywidgets. See https://ipywidgets.readthedocs.io/en/stable/user_install.html\n",
            "  from .autonotebook import tqdm as notebook_tqdm\n"
          ]
        }
      ],
      "source": [
        "from datasets import load_dataset\n",
        "from PIL import Image,ImageDraw\n",
        "import json"
      ]
    },
    {
      "cell_type": "code",
      "execution_count": 4,
      "metadata": {
        "colab": {
          "base_uri": "https://localhost:8080/"
        },
        "id": "JYwGnxXcOk4s",
        "outputId": "4262d033-8d22-4cce-d0fb-dec7d61a7971"
      },
      "outputs": [
        {
          "data": {
            "text/plain": [
              "[{'id': 0, 'name': 'discount'},\n",
              " {'id': 1, 'name': 'price'},\n",
              " {'id': 2, 'name': 'product area'},\n",
              " {'id': 3, 'name': 'product name'}]"
            ]
          },
          "execution_count": 4,
          "metadata": {},
          "output_type": "execute_result"
        }
      ],
      "source": [
        "angebot['categories']"
      ]
    },
    {
      "cell_type": "code",
      "execution_count": 5,
      "metadata": {
        "id": "46jIGKOebkSw"
      },
      "outputs": [],
      "source": [
        "def transform_result(result,img_id,exclude_classes=[]):\n",
        "\n",
        "    annotations = [r for r in result['annotations']\n",
        "                   if r['image_id'] == img_id\n",
        "                   if r['category_id'] not in exclude_classes\n",
        "                   ]\n",
        "    new_result = {\n",
        "        'image_id':img_id,\n",
        "        'image': Image.open(data_path+'/'+result['images'][img_id]['file_name']),\n",
        "        'width':result['images'][img_id]['width'],\n",
        "        'height':result['images'][img_id]['height'],\n",
        "        'objects':{\n",
        "            'id':[a['id'] for a in annotations],\n",
        "            'area':[a['area'] for a in annotations ],\n",
        "            'bbox':[a['bbox'] for a in annotations ],\n",
        "            'category':[a['category_id'] for a in annotations],\n",
        "        }\n",
        "    }\n",
        "\n",
        "\n",
        "    return new_result"
      ]
    },
    {
      "cell_type": "code",
      "execution_count": 22,
      "metadata": {
        "id": "2cnuGD5orf2-"
      },
      "outputs": [],
      "source": [
        "def find_inside_boxes(dataset_row, core_bbox):\n",
        "    bbox = (core_bbox[0], core_bbox[1], core_bbox[0]+core_bbox[2], core_bbox[1]+core_bbox[3])\n",
        "    img = dataset_row['image'].crop(bbox)\n",
        "    inside_bboxes_and_classes = [([b[0]-bbox[0], b[1] - bbox[1], (b[0]+b[2]) - bbox[0],  (b[1]+b[3]) - bbox[1]],c)\n",
        "                     for b,c in zip(dataset_row['objects']['bbox'], dataset_row['objects']['category'])\n",
        "                     if b[0] >= bbox[0] and b[1] >= bbox[1] and b[0]+b[2] <= bbox[2] and b[1]+b[3] <= bbox[3] and c != 2]\n",
        "    inside_boxes = []\n",
        "    for inside_bboxes,_ in inside_bboxes_and_classes:\n",
        "      temp_bbox = [b for b in inside_bboxes]\n",
        "      if inside_bboxes[0]+ inside_bboxes[2] > img.width:\n",
        "        temp_bbox[2] = img.width - temp_bbox[0]\n",
        "      if inside_bboxes[1]+ inside_bboxes[3] > img.height:\n",
        "        temp_bbox[3] = img.height - temp_bbox[1]\n",
        "      inside_boxes.append(temp_bbox)\n",
        "    return inside_boxes, [inside_classe for _,inside_classe in inside_bboxes_and_classes], img\n",
        "\n",
        "\n",
        "def handle_row(dataset_row):\n",
        "    core_bboxes = [bbox\n",
        "               for bbox,category in zip(dataset_row['objects']['bbox'], dataset_row['objects']['category'])\n",
        "               if category == 2]\n",
        "    inside_bboxes_all = []\n",
        "    inside_classes_all = []\n",
        "    img_all = []\n",
        "    for core_bbox in core_bboxes:\n",
        "        inside_bboxes, inside_classes, img = find_inside_boxes(dataset_row, core_bbox)\n",
        "        inside_bboxes_all.append(inside_bboxes)\n",
        "        inside_classes_all.append(inside_classes)\n",
        "        img_all.append(img)\n",
        "\n",
        "    return [\n",
        "        {\n",
        "            #'image_id': f\"{dataset_row['image_id']}_{img_id}\",\n",
        "            'image_id': int(f\"{dataset_row['image_id']}0{img_id}\"),\n",
        "            'image':img,\n",
        "            'width': img.width,\n",
        "            'height': img.height,\n",
        "            'objects': {\n",
        "                'bbox': inside_bboxes,\n",
        "                'category': inside_classes,\n",
        "                'id':[i for i in range(len(inside_classes))],\n",
        "                'area':[bbox[2]*bbox[3] for bbox in inside_bboxes]\n",
        "            },\n",
        "        }\n",
        "        for img_id,(inside_bboxes, inside_classes, img) in enumerate(zip(inside_bboxes_all, inside_classes_all, img_all))\n",
        "    ]\n"
      ]
    },
    {
      "cell_type": "code",
      "execution_count": 23,
      "metadata": {
        "id": "6p_CPDTjAiSu"
      },
      "outputs": [],
      "source": [
        "from datasets import load_dataset\n",
        "from datasets import Dataset\n",
        "\n",
        "angebot_dataset = Dataset.from_list([transform_result(angebot,i,[]) for i in range(len(angebot['images']))])\n",
        "angebot_dataset = Dataset.from_list(\n",
        "    [sub_row\n",
        "     for row in angebot_dataset\n",
        "     for sub_row in handle_row(row)]\n",
        ")"
      ]
    },
    {
      "cell_type": "code",
      "execution_count": 24,
      "metadata": {
        "id": "Xx2qnmkrci1L"
      },
      "outputs": [],
      "source": [
        "ab_ds = angebot_dataset.train_test_split(test_size=0.2,seed = 420)"
      ]
    },
    {
      "cell_type": "code",
      "execution_count": 25,
      "metadata": {
        "colab": {
          "base_uri": "https://localhost:8080/",
          "height": 627
        },
        "id": "TDH9myXMAwhM",
        "outputId": "1bd72428-5346-410f-ddbf-5cec1b7dcbd4"
      },
      "outputs": [
        {
          "name": "stdout",
          "output_type": "stream",
          "text": [
            "Width 390.8432642487047 497\n",
            "Height 81.80440414507802 506\n",
            "Width 497.0 497\n",
            "Height 278.74093264248734 506\n",
            "Width 497.0 497\n",
            "Height 118.16191709844577 506\n"
          ]
        },
        {
          "data": {
            "image/jpeg": "[encoded data removed]",
            "image/png": "[encoded data removed]",
            "text/plain": [
              "<PIL.PngImagePlugin.PngImageFile image mode=RGB size=497x506>"
            ]
          },
          "execution_count": 25,
          "metadata": {},
          "output_type": "execute_result"
        }
      ],
      "source": [
        "import numpy as np\n",
        "import os\n",
        "from PIL import Image, ImageDraw\n",
        "\n",
        "image = ab_ds[\"train\"][0][\"image\"]\n",
        "annotations = ab_ds[\"train\"][0][\"objects\"]\n",
        "draw = ImageDraw.Draw(image)\n",
        "\n",
        "\n",
        "id2label = {r['id']:r['name'] for r in angebot['categories']}\n",
        "label2id = {r['name']:r['id'] for r in angebot['categories']}\n",
        "\n",
        "for i in range(len(annotations[\"id\"])):\n",
        "    box = annotations[\"bbox\"][i - 1]\n",
        "    class_idx = annotations[\"category\"][i - 1]\n",
        "    x, y, w, h = tuple(box)\n",
        "    print('Width',x+w,image.width)\n",
        "    print('Height',y+h,image.height)\n",
        "    draw.rectangle((x, y, x+w, y+h), outline=\"red\", width=1)\n",
        "    draw.text((x, y), id2label[class_idx], fill=\"black\")\n",
        "\n",
        "image"
      ]
    },
    {
      "cell_type": "code",
      "execution_count": 10,
      "metadata": {
        "id": "9b7F8SEJA5hB"
      },
      "outputs": [],
      "source": [
        "from transformers import AutoImageProcessor\n",
        "\n",
        "checkpoint = f\"../model_data/300_epochs_subimages\"\n",
        "number_epochs = 50\n",
        "image_processor = AutoImageProcessor.from_pretrained(checkpoint)"
      ]
    },
    {
      "cell_type": "code",
      "execution_count": 11,
      "metadata": {
        "id": "IMEpcQsbA64I"
      },
      "outputs": [],
      "source": [
        "import albumentations\n",
        "import numpy as np\n",
        "import torch\n",
        "\n",
        "transform = albumentations.Compose(\n",
        "    [\n",
        "        albumentations.Resize(480, 480),\n",
        "        albumentations.HorizontalFlip(p=1.0),\n",
        "        albumentations.RandomBrightnessContrast(p=1.0),\n",
        "    ],\n",
        "    bbox_params=albumentations.BboxParams(format=\"coco\", label_fields=[\"category\"]),\n",
        ")"
      ]
    },
    {
      "cell_type": "code",
      "execution_count": 12,
      "metadata": {
        "id": "SxQVjmyMA8va"
      },
      "outputs": [],
      "source": [
        "def formatted_anns(image_id, category, area, bbox):\n",
        "    annotations = []\n",
        "    for i in range(0, len(category)):\n",
        "        new_ann = {\n",
        "            \"image_id\": image_id,\n",
        "            \"category_id\": category[i],\n",
        "            \"isCrowd\": 0,\n",
        "            \"area\": area[i],\n",
        "            \"bbox\": list(bbox[i]),\n",
        "        }\n",
        "        annotations.append(new_ann)\n",
        "\n",
        "    return annotations"
      ]
    },
    {
      "cell_type": "code",
      "execution_count": 13,
      "metadata": {
        "id": "YAnzRUcOA-U2"
      },
      "outputs": [],
      "source": [
        "# transforming a batch\n",
        "def transform_aug_ann(examples):\n",
        "    image_ids = examples[\"image_id\"]\n",
        "    images, bboxes, area, categories = [], [], [], []\n",
        "    for image, objects in zip(examples[\"image\"], examples[\"objects\"]):\n",
        "        image = np.array(image.convert(\"RGB\"))[:, :, ::-1]\n",
        "        out = transform(image=image, bboxes=objects[\"bbox\"], category=objects[\"category\"])\n",
        "\n",
        "        area.append(objects[\"area\"])\n",
        "        images.append(out[\"image\"])\n",
        "        bboxes.append(out[\"bboxes\"])\n",
        "        categories.append(out[\"category\"])\n",
        "\n",
        "    targets = [\n",
        "        {\"image_id\": id_, \"annotations\": formatted_anns(id_, cat_, ar_, box_)}\n",
        "        for id_, cat_, ar_, box_ in zip(image_ids, categories, area, bboxes)\n",
        "    ]\n",
        "\n",
        "    return image_processor(images=images, annotations=targets, return_tensors=\"pt\")"
      ]
    },
    {
      "cell_type": "code",
      "execution_count": 14,
      "metadata": {
        "id": "9U5He2ecA-sL"
      },
      "outputs": [],
      "source": [
        "ab_ds[\"train\"] = ab_ds[\"train\"].with_transform(transform_aug_ann)"
      ]
    },
    {
      "cell_type": "code",
      "execution_count": 15,
      "metadata": {
        "id": "vwnwV8aYA_al"
      },
      "outputs": [],
      "source": [
        "def collate_fn(batch):\n",
        "    pixel_values = [item[\"pixel_values\"] for item in batch]\n",
        "    encoding = image_processor.pad(pixel_values, return_tensors=\"pt\")\n",
        "    labels = [item[\"labels\"] for item in batch]\n",
        "    batch = {}\n",
        "    batch[\"pixel_values\"] = encoding[\"pixel_values\"]\n",
        "    batch[\"pixel_mask\"] = encoding[\"pixel_mask\"]\n",
        "    batch[\"labels\"] = labels\n",
        "    return batch"
      ]
    },
    {
      "cell_type": "code",
      "execution_count": null,
      "metadata": {
        "colab": {
          "base_uri": "https://localhost:8080/",
          "height": 49,
          "referenced_widgets": [
            "8296512d63494933be28fa6404d7421d",
            "27834343dd944d23850595ed2f7ef557",
            "63929411a26e42028a5f93a926f5ac62",
            "edbc7c6aa1fe4aba93662a4ba1cc26f7",
            "4c090a20bba940ec80b16abb21e706cb",
            "ffe764cccba544259b6654e602d1927f",
            "54114d11d6c5422ab276183e97f9945d",
            "5a1e0c42556845219dda2d36d1aa387c",
            "189d1c1189c246eba60d62fb47557de5",
            "900584e9fcee4f35862896bf30a807be",
            "1e380229517b457585a6c76365dc3d63"
          ]
        },
        "id": "uHMrKiLrBLEP",
        "outputId": "873dd6c4-b001-4adb-95f6-28bd3f734ed6"
      },
      "outputs": [
        {
          "data": {
            "application/vnd.jupyter.widget-view+json": {
              "model_id": "8296512d63494933be28fa6404d7421d",
              "version_major": 2,
              "version_minor": 0
            },
            "text/plain": [
              "model.safetensors:   0%|          | 0.00/102M [00:00<?, ?B/s]"
            ]
          },
          "metadata": {},
          "output_type": "display_data"
        }
      ],
      "source": [
        "from transformers import AutoModelForObjectDetection\n",
        "from transformers import OwlViTProcessor, OwlViTForObjectDetection\n",
        "\n",
        "model = AutoModelForObjectDetection.from_pretrained(\n",
        "    checkpoint,\n",
        "    id2label=id2label,\n",
        "    label2id=label2id,\n",
        "    ignore_mismatched_sizes=True,\n",
        ")"
      ]
    },
    {
      "cell_type": "code",
      "execution_count": null,
      "metadata": {
        "id": "lBfsr05kBMg_"
      },
      "outputs": [],
      "source": [
        "from transformers import TrainingArguments\n",
        "\n",
        "training_args = TrainingArguments(\n",
        "    output_dir=f\"/content/drive/MyDrive/Angebot/facebook-detr-resnet-50/300_epochs_subimages\",\n",
        "    per_device_train_batch_size=8,\n",
        "    num_train_epochs=number_epochs,\n",
        "    fp16=True,\n",
        "    save_strategy='no',\n",
        "    logging_strategy='epoch',\n",
        "    learning_rate=1e-5,\n",
        "    weight_decay=1e-4,\n",
        "    save_total_limit=2,\n",
        "    remove_unused_columns=False,\n",
        "    load_best_model_at_end=True,\n",
        "    #push_to_hub=True,\n",
        ")"
      ]
    },
    {
      "cell_type": "code",
      "execution_count": null,
      "metadata": {
        "id": "HXc4eO2dBOAZ"
      },
      "outputs": [],
      "source": [
        "from transformers import Trainer\n",
        "\n",
        "trainer = Trainer(\n",
        "    model=model,\n",
        "    args=training_args,\n",
        "    data_collator=collate_fn,\n",
        "    train_dataset=ab_ds[\"train\"],\n",
        "    tokenizer=image_processor,\n",
        ")"
      ]
    },
    {
      "cell_type": "code",
      "execution_count": null,
      "metadata": {
        "colab": {
          "base_uri": "https://localhost:8080/",
          "height": 1000
        },
        "id": "bBOxxcxQBOis",
        "outputId": "0dbbe42b-7d06-4389-cb9a-6508b738c2c4"
      },
      "outputs": [
        {
          "name": "stderr",
          "output_type": "stream",
          "text": [
            "The `max_size` parameter is deprecated and will be removed in v4.26. Please specify in `size['longest_edge'] instead`.\n"
          ]
        },
        {
          "data": {
            "text/html": [
              "\n",
              "    <div>\n",
              "      \n",
              "      <progress value='5450' max='5450' style='width:300px; height:20px; vertical-align: middle;'></progress>\n",
              "      [5450/5450 1:59:26, Epoch 50/50]\n",
              "    </div>\n",
              "    <table border=\"1\" class=\"dataframe\">\n",
              "  <thead>\n",
              " <tr style=\"text-align: left;\">\n",
              "      <th>Step</th>\n",
              "      <th>Training Loss</th>\n",
              "    </tr>\n",
              "  </thead>\n",
              "  <tbody>\n",
              "    <tr>\n",
              "      <td>109</td>\n",
              "      <td>0.136300</td>\n",
              "    </tr>\n",
              "    <tr>\n",
              "      <td>218</td>\n",
              "      <td>0.154800</td>\n",
              "    </tr>\n",
              "    <tr>\n",
              "      <td>327</td>\n",
              "      <td>0.149500</td>\n",
              "    </tr>\n",
              "    <tr>\n",
              "      <td>436</td>\n",
              "      <td>0.154600</td>\n",
              "    </tr>\n",
              "    <tr>\n",
              "      <td>545</td>\n",
              "      <td>0.151000</td>\n",
              "    </tr>\n",
              "    <tr>\n",
              "      <td>654</td>\n",
              "      <td>0.146600</td>\n",
              "    </tr>\n",
              "    <tr>\n",
              "      <td>763</td>\n",
              "      <td>0.150600</td>\n",
              "    </tr>\n",
              "    <tr>\n",
              "      <td>872</td>\n",
              "      <td>0.149700</td>\n",
              "    </tr>\n",
              "    <tr>\n",
              "      <td>981</td>\n",
              "      <td>0.145400</td>\n",
              "    </tr>\n",
              "    <tr>\n",
              "      <td>1090</td>\n",
              "      <td>0.144200</td>\n",
              "    </tr>\n",
              "    <tr>\n",
              "      <td>1199</td>\n",
              "      <td>0.146300</td>\n",
              "    </tr>\n",
              "    <tr>\n",
              "      <td>1308</td>\n",
              "      <td>0.147000</td>\n",
              "    </tr>\n",
              "    <tr>\n",
              "      <td>1417</td>\n",
              "      <td>0.138300</td>\n",
              "    </tr>\n",
              "    <tr>\n",
              "      <td>1526</td>\n",
              "      <td>0.141400</td>\n",
              "    </tr>\n",
              "    <tr>\n",
              "      <td>1635</td>\n",
              "      <td>0.137500</td>\n",
              "    </tr>\n",
              "    <tr>\n",
              "      <td>1744</td>\n",
              "      <td>0.135900</td>\n",
              "    </tr>\n",
              "    <tr>\n",
              "      <td>1853</td>\n",
              "      <td>0.134300</td>\n",
              "    </tr>\n",
              "    <tr>\n",
              "      <td>1962</td>\n",
              "      <td>0.135000</td>\n",
              "    </tr>\n",
              "    <tr>\n",
              "      <td>2071</td>\n",
              "      <td>0.131900</td>\n",
              "    </tr>\n",
              "    <tr>\n",
              "      <td>2180</td>\n",
              "      <td>0.131800</td>\n",
              "    </tr>\n",
              "    <tr>\n",
              "      <td>2289</td>\n",
              "      <td>0.131700</td>\n",
              "    </tr>\n",
              "    <tr>\n",
              "      <td>2398</td>\n",
              "      <td>0.127000</td>\n",
              "    </tr>\n",
              "    <tr>\n",
              "      <td>2507</td>\n",
              "      <td>0.124200</td>\n",
              "    </tr>\n",
              "    <tr>\n",
              "      <td>2616</td>\n",
              "      <td>0.129300</td>\n",
              "    </tr>\n",
              "    <tr>\n",
              "      <td>2725</td>\n",
              "      <td>0.125000</td>\n",
              "    </tr>\n",
              "    <tr>\n",
              "      <td>2834</td>\n",
              "      <td>0.124900</td>\n",
              "    </tr>\n",
              "    <tr>\n",
              "      <td>2943</td>\n",
              "      <td>0.119200</td>\n",
              "    </tr>\n",
              "    <tr>\n",
              "      <td>3052</td>\n",
              "      <td>0.119600</td>\n",
              "    </tr>\n",
              "    <tr>\n",
              "      <td>3161</td>\n",
              "      <td>0.120900</td>\n",
              "    </tr>\n",
              "    <tr>\n",
              "      <td>3270</td>\n",
              "      <td>0.119800</td>\n",
              "    </tr>\n",
              "    <tr>\n",
              "      <td>3379</td>\n",
              "      <td>0.114000</td>\n",
              "    </tr>\n",
              "    <tr>\n",
              "      <td>3488</td>\n",
              "      <td>0.115600</td>\n",
              "    </tr>\n",
              "    <tr>\n",
              "      <td>3597</td>\n",
              "      <td>0.116000</td>\n",
              "    </tr>\n",
              "    <tr>\n",
              "      <td>3706</td>\n",
              "      <td>0.115000</td>\n",
              "    </tr>\n",
              "    <tr>\n",
              "      <td>3815</td>\n",
              "      <td>0.112700</td>\n",
              "    </tr>\n",
              "    <tr>\n",
              "      <td>3924</td>\n",
              "      <td>0.113200</td>\n",
              "    </tr>\n",
              "    <tr>\n",
              "      <td>4033</td>\n",
              "      <td>0.114900</td>\n",
              "    </tr>\n",
              "    <tr>\n",
              "      <td>4142</td>\n",
              "      <td>0.112300</td>\n",
              "    </tr>\n",
              "    <tr>\n",
              "      <td>4251</td>\n",
              "      <td>0.110300</td>\n",
              "    </tr>\n",
              "    <tr>\n",
              "      <td>4360</td>\n",
              "      <td>0.109000</td>\n",
              "    </tr>\n",
              "    <tr>\n",
              "      <td>4469</td>\n",
              "      <td>0.108400</td>\n",
              "    </tr>\n",
              "    <tr>\n",
              "      <td>4578</td>\n",
              "      <td>0.109100</td>\n",
              "    </tr>\n",
              "    <tr>\n",
              "      <td>4687</td>\n",
              "      <td>0.108400</td>\n",
              "    </tr>\n",
              "    <tr>\n",
              "      <td>4796</td>\n",
              "      <td>0.107900</td>\n",
              "    </tr>\n",
              "    <tr>\n",
              "      <td>4905</td>\n",
              "      <td>0.105600</td>\n",
              "    </tr>\n",
              "    <tr>\n",
              "      <td>5014</td>\n",
              "      <td>0.105500</td>\n",
              "    </tr>\n",
              "    <tr>\n",
              "      <td>5123</td>\n",
              "      <td>0.106400</td>\n",
              "    </tr>\n",
              "    <tr>\n",
              "      <td>5232</td>\n",
              "      <td>0.108800</td>\n",
              "    </tr>\n",
              "    <tr>\n",
              "      <td>5341</td>\n",
              "      <td>0.105500</td>\n",
              "    </tr>\n",
              "    <tr>\n",
              "      <td>5450</td>\n",
              "      <td>0.105000</td>\n",
              "    </tr>\n",
              "  </tbody>\n",
              "</table><p>"
            ],
            "text/plain": [
              "<IPython.core.display.HTML object>"
            ]
          },
          "metadata": {},
          "output_type": "display_data"
        },
        {
          "data": {
            "text/plain": [
              "TrainOutput(global_step=5450, training_loss=0.1261468225881594, metrics={'train_runtime': 7176.7353, 'train_samples_per_second': 6.04, 'train_steps_per_second': 0.759, 'total_flos': 2.0713186600128012e+19, 'train_loss': 0.1261468225881594, 'epoch': 50.0})"
            ]
          },
          "execution_count": 21,
          "metadata": {},
          "output_type": "execute_result"
        }
      ],
      "source": [
        "trainer.train()"
      ]
    },
    {
      "cell_type": "code",
      "execution_count": null,
      "metadata": {
        "id": "HpoYjB_zEBIh"
      },
      "outputs": [],
      "source": [
        "trainer.save_model()"
      ]
    },
    {
      "cell_type": "code",
      "execution_count": null,
      "metadata": {
        "colab": {
          "base_uri": "https://localhost:8080/",
          "height": 175
        },
        "id": "vDXtQPqwESp9",
        "outputId": "6d416249-5a86-42ef-b7de-87792344f289"
      },
      "outputs": [
        {
          "ename": "NameError",
          "evalue": "ignored",
          "output_type": "error",
          "traceback": [
            "\u001b[0;31m---------------------------------------------------------------------------\u001b[0m",
            "\u001b[0;31mNameError\u001b[0m                                 Traceback (most recent call last)",
            "\u001b[0;32m<ipython-input-23-ee4decdca3b8>\u001b[0m in \u001b[0;36m<cell line: 1>\u001b[0;34m()\u001b[0m\n\u001b[0;32m----> 1\u001b[0;31m \u001b[0mSTOP\u001b[0m\u001b[0;34m\u001b[0m\u001b[0;34m\u001b[0m\u001b[0m\n\u001b[0m",
            "\u001b[0;31mNameError\u001b[0m: name 'STOP' is not defined"
          ]
        }
      ],
      "source": [
        "STOP"
      ]
    },
    {
      "cell_type": "code",
      "execution_count": 16,
      "metadata": {
        "id": "3anW19HwgUIn"
      },
      "outputs": [],
      "source": [
        "latest_model_check_path = f\"../model_data/300_epochs_subimages\""
      ]
    },
    {
      "cell_type": "code",
      "execution_count": 17,
      "metadata": {
        "colab": {
          "base_uri": "https://localhost:8080/",
          "height": 560
        },
        "id": "aYkul8XdZaiO",
        "outputId": "eef3d751-22c4-4883-ace8-b4a39f5799ac"
      },
      "outputs": [
        {
          "name": "stderr",
          "output_type": "stream",
          "text": [
            "model.safetensors: 100%|██████████| 102M/102M [00:09<00:00, 11.4MB/s] \n"
          ]
        }
      ],
      "source": [
        "from transformers import AutoImageProcessor\n",
        "from transformers import AutoModelForObjectDetection\n",
        "\n",
        "im_processor = AutoImageProcessor.from_pretrained(latest_model_check_path)\n",
        "model = AutoModelForObjectDetection.from_pretrained(latest_model_check_path)"
      ]
    },
    {
      "cell_type": "code",
      "execution_count": 18,
      "metadata": {
        "id": "m28ykfr7fR3r"
      },
      "outputs": [],
      "source": [
        "import json\n",
        "\n",
        "\n",
        "# format annotations the same as for training, no need for data augmentation\n",
        "def val_formatted_anns(image_id, objects):\n",
        "    annotations = []\n",
        "    for i in range(0, len(objects[\"id\"])):\n",
        "        new_ann = {\n",
        "            \"id\": objects[\"id\"][i],\n",
        "            \"category_id\": objects[\"category\"][i],\n",
        "            \"iscrowd\": 0,\n",
        "            \"image_id\": image_id,\n",
        "            \"area\": objects[\"area\"][i],\n",
        "            \"bbox\": objects[\"bbox\"][i],\n",
        "        }\n",
        "        annotations.append(new_ann)\n",
        "\n",
        "    return annotations\n",
        "\n",
        "\n",
        "# Save images and annotations into the files torchvision.datasets.CocoDetection expects\n",
        "def save_cppe5_annotation_file_images(cppe5):\n",
        "    output_json = {}\n",
        "    path_output_cppe5 = f\"{os.getcwd()}/cppe5/\"\n",
        "\n",
        "    if not os.path.exists(path_output_cppe5):\n",
        "        os.makedirs(path_output_cppe5)\n",
        "\n",
        "    path_anno = os.path.join(path_output_cppe5, \"cppe5_ann.json\")\n",
        "    categories_json = [{\"supercategory\": \"none\", \"id\": id, \"name\": id2label[id]} for id in id2label]\n",
        "    output_json[\"images\"] = []\n",
        "    output_json[\"annotations\"] = []\n",
        "    for example in cppe5:\n",
        "        ann = val_formatted_anns(example[\"image_id\"], example[\"objects\"])\n",
        "        output_json[\"images\"].append(\n",
        "            {\n",
        "                \"id\": example[\"image_id\"],\n",
        "                \"width\": example[\"image\"].width,\n",
        "                \"height\": example[\"image\"].height,\n",
        "                \"file_name\": f\"{example['image_id']}.png\",\n",
        "            }\n",
        "        )\n",
        "        output_json[\"annotations\"].extend(ann)\n",
        "    output_json[\"categories\"] = categories_json\n",
        "\n",
        "    with open(path_anno, \"w\") as file:\n",
        "        json.dump(output_json, file, ensure_ascii=False, indent=4)\n",
        "\n",
        "    for im, img_id in zip(cppe5[\"image\"], cppe5[\"image_id\"]):\n",
        "        path_img = os.path.join(path_output_cppe5, f\"{img_id}.png\")\n",
        "        im.save(path_img)\n",
        "\n",
        "    return path_output_cppe5, path_anno"
      ]
    },
    {
      "cell_type": "code",
      "execution_count": 26,
      "metadata": {
        "id": "kWXUq8gTgvm_"
      },
      "outputs": [
        {
          "name": "stdout",
          "output_type": "stream",
          "text": [
            "loading annotations into memory...\n",
            "Done (t=0.00s)\n",
            "creating index...\n",
            "index created!\n"
          ]
        }
      ],
      "source": [
        "import torchvision\n",
        "from transformers import AutoImageProcessor\n",
        "import os\n",
        "\n",
        "class CocoDetection(torchvision.datasets.CocoDetection):\n",
        "    def __init__(self, img_folder, image_processor, ann_file):\n",
        "        super().__init__(img_folder, ann_file)\n",
        "        self.image_processor = image_processor\n",
        "\n",
        "    def __getitem__(self, idx):\n",
        "        # read in PIL image and target in COCO format\n",
        "        img, target = super(CocoDetection, self).__getitem__(idx)\n",
        "\n",
        "        # preprocess image and target: converting target to DETR format,\n",
        "        # resizing + normalization of both image and target)\n",
        "        image_id = self.ids[idx]\n",
        "        target = {\"image_id\": image_id, \"annotations\": target}\n",
        "        encoding = self.image_processor(images=img, annotations=target, return_tensors=\"pt\")\n",
        "        pixel_values = encoding[\"pixel_values\"].squeeze()  # remove batch dimension\n",
        "        target = encoding[\"labels\"][0]  # remove batch dimension\n",
        "\n",
        "        return {\"pixel_values\": pixel_values, \"labels\": target}\n",
        "\n",
        "\n",
        "im_processor = AutoImageProcessor.from_pretrained(latest_model_check_path)\n",
        "\n",
        "path_output_ab_ds, path_anno = save_cppe5_annotation_file_images(ab_ds[\"test\"])\n",
        "test_ds_coco_format = CocoDetection(path_output_ab_ds, im_processor, path_anno)"
      ]
    },
    {
      "cell_type": "code",
      "execution_count": 27,
      "metadata": {
        "id": "iClEQ_oZgwDI"
      },
      "outputs": [
        {
          "name": "stderr",
          "output_type": "stream",
          "text": [
            "  0%|          | 0/28 [00:00<?, ?it/s]The `max_size` parameter is deprecated and will be removed in v4.26. Please specify in `size['longest_edge'] instead`.\n",
            "The `max_size` parameter is deprecated and will be removed in v4.26. Please specify in `size['longest_edge'] instead`.\n",
            "The `max_size` parameter is deprecated and will be removed in v4.26. Please specify in `size['longest_edge'] instead`.\n",
            "The `max_size` parameter is deprecated and will be removed in v4.26. Please specify in `size['longest_edge'] instead`.\n",
            "`post_process` is deprecated and will be removed in v5 of Transformers, please use `post_process_object_detection` instead, with `threshold=0.` for equivalent results.\n",
            "100%|██████████| 28/28 [09:16<00:00, 19.86s/it]\n"
          ]
        },
        {
          "name": "stdout",
          "output_type": "stream",
          "text": [
            "Accumulating evaluation results...\n",
            "DONE (t=0.15s).\n",
            "IoU metric: bbox\n",
            " Average Precision  (AP) @[ IoU=0.50:0.95 | area=   all | maxDets=100 ] = 0.002\n",
            " Average Precision  (AP) @[ IoU=0.50      | area=   all | maxDets=100 ] = 0.009\n",
            " Average Precision  (AP) @[ IoU=0.75      | area=   all | maxDets=100 ] = 0.000\n",
            " Average Precision  (AP) @[ IoU=0.50:0.95 | area= small | maxDets=100 ] = -1.000\n",
            " Average Precision  (AP) @[ IoU=0.50:0.95 | area=medium | maxDets=100 ] = -1.000\n",
            " Average Precision  (AP) @[ IoU=0.50:0.95 | area= large | maxDets=100 ] = 0.002\n",
            " Average Recall     (AR) @[ IoU=0.50:0.95 | area=   all | maxDets=  1 ] = 0.085\n",
            " Average Recall     (AR) @[ IoU=0.50:0.95 | area=   all | maxDets= 10 ] = 0.085\n",
            " Average Recall     (AR) @[ IoU=0.50:0.95 | area=   all | maxDets=100 ] = 0.085\n",
            " Average Recall     (AR) @[ IoU=0.50:0.95 | area= small | maxDets=100 ] = -1.000\n",
            " Average Recall     (AR) @[ IoU=0.50:0.95 | area=medium | maxDets=100 ] = -1.000\n",
            " Average Recall     (AR) @[ IoU=0.50:0.95 | area= large | maxDets=100 ] = 0.085\n",
            "{'iou_bbox': {'AP-IoU=0.50:0.95-area=all-maxDets=100': 0.0020188215370674353, 'AP-IoU=0.50-area=all-maxDets=100': 0.009455334130562345, 'AP-IoU=0.75-area=all-maxDets=100': 0.0, 'AP-IoU=0.50:0.95-area=small-maxDets=100': -1.0, 'AP-IoU=0.50:0.95-area=medium-maxDets=100': -1.0, 'AP-IoU=0.50:0.95-area=large-maxDets=100': 0.002135100606834877, 'AR-IoU=0.50:0.95-area=all-maxDets=1': 0.0846153846153846, 'AR-IoU=0.50:0.95-area=all-maxDets=10': 0.0846153846153846, 'AR-IoU=0.50:0.95-area=all-maxDets=100': 0.0846153846153846, 'AR-IoU=0.50:0.95-area=small-maxDets=100': -1.0, 'AR-IoU=0.50:0.95-area=medium-maxDets=100': -1.0, 'AR-IoU=0.50:0.95-area=large-maxDets=100': 0.0846153846153846}}\n"
          ]
        }
      ],
      "source": [
        "import evaluate\n",
        "from tqdm import tqdm\n",
        "import torch\n",
        "\n",
        "model = AutoModelForObjectDetection.from_pretrained(latest_model_check_path)\n",
        "module = evaluate.load(\"ybelkada/cocoevaluate\", coco=test_ds_coco_format.coco)\n",
        "val_dataloader = torch.utils.data.DataLoader(\n",
        "    test_ds_coco_format, batch_size=8, shuffle=False, num_workers=4, collate_fn=collate_fn\n",
        ")\n",
        "\n",
        "with torch.no_grad():\n",
        "    for idx, batch in enumerate(tqdm(val_dataloader)):\n",
        "        pixel_values = batch[\"pixel_values\"]\n",
        "        pixel_mask = batch[\"pixel_mask\"]\n",
        "\n",
        "        labels = [\n",
        "            {k: v for k, v in t.items()} for t in batch[\"labels\"]\n",
        "        ]  # these are in DETR format, resized + normalized\n",
        "\n",
        "        # forward pass\n",
        "        outputs = model(pixel_values=pixel_values, pixel_mask=pixel_mask)\n",
        "\n",
        "        orig_target_sizes = torch.stack([target[\"orig_size\"] for target in labels], dim=0)\n",
        "        results = im_processor.post_process(outputs, orig_target_sizes)  # convert outputs of model to COCO api\n",
        "\n",
        "        module.add(prediction=results, reference=labels)\n",
        "        del batch\n",
        "\n",
        "results = module.compute()\n",
        "print(results)"
      ]
    },
    {
      "cell_type": "code",
      "execution_count": 28,
      "metadata": {
        "id": "qTXxDXg3xI-r"
      },
      "outputs": [],
      "source": [
        "import json\n",
        "with open(f'{latest_model_check_path}/results.json','w') as f:\n",
        "  f.write(json.dumps(results))\n"
      ]
    },
    {
      "cell_type": "code",
      "execution_count": 29,
      "metadata": {
        "id": "Z5FcE2M5xhE8"
      },
      "outputs": [
        {
          "data": {
            "text/plain": [
              "'../model_data/300_epochs_subimages'"
            ]
          },
          "execution_count": 29,
          "metadata": {},
          "output_type": "execute_result"
        }
      ],
      "source": [
        "latest_model_check_path"
      ]
    },
    {
      "cell_type": "code",
      "execution_count": 41,
      "metadata": {
        "id": "2RyeRmhzg5oB"
      },
      "outputs": [],
      "source": [
        "from transformers import pipeline\n",
        "import requests\n",
        "import os\n",
        "from PIL import Image\n",
        "from PIL import ImageDraw\n",
        "\n",
        "img_path = \"cropped_image4.png\"\n",
        "image = Image.open(img_path)\n",
        "latest_model_check_path = f\"../model_data/300_epochs_subimages\"\n",
        "\n",
        "obj_detector = pipeline(\"object-detection\", model=latest_model_check_path)\n",
        "bbx_info = obj_detector(image)"
      ]
    },
    {
      "cell_type": "code",
      "execution_count": 42,
      "metadata": {
        "id": "dyMJUw_AAWe4"
      },
      "outputs": [],
      "source": [
        "def draw_bbx_on_in_mem_img(img,bbx_info):\n",
        "  draw = ImageDraw.Draw(img)\n",
        "  for bb in bbx_info:\n",
        "    label = bb['label']\n",
        "    score = bb['score']\n",
        "    box = bb['box']\n",
        "    x,y,w,h = box['xmin'],box['ymin'],box['xmax'],box['ymax']\n",
        "    draw.rectangle((x, y, w, h), outline=\"red\", width=1)\n",
        "    draw.text((x, y), f'{label} Score: {score}', fill=\"black\")\n",
        "\n",
        "  return img"
      ]
    },
    {
      "cell_type": "code",
      "execution_count": 43,
      "metadata": {},
      "outputs": [],
      "source": [
        "bbx_image = draw_bbx_on_in_mem_img(image,bbx_info)\n",
        "bbx_image.save('bbx_image4.png')"
      ]
    },
    {
      "cell_type": "code",
      "execution_count": 73,
      "metadata": {
        "id": "E3E03ZfoRFcK"
      },
      "outputs": [
        {
          "data": {
            "text/plain": [
              "[{'score': 0.9978768825531006,\n",
              "  'label': 'price',\n",
              "  'box': {'xmin': 0, 'ymin': 192, 'xmax': 198, 'ymax': 355}},\n",
              " {'score': 0.9742715954780579,\n",
              "  'label': 'product name',\n",
              "  'box': {'xmin': 0, 'ymin': 25, 'xmax': 238, 'ymax': 207}}]"
            ]
          },
          "execution_count": 73,
          "metadata": {},
          "output_type": "execute_result"
        }
      ],
      "source": [
        "img = angebot_dataset[150]['image']\n",
        "obj_detector = pipeline(\"object-detection\", model=latest_model_check_path)\n",
        "bbx_info = obj_detector(img)\n",
        "bbx_info"
      ]
    },
    {
      "cell_type": "code",
      "execution_count": 74,
      "metadata": {
        "id": "Kn1ip4Tmwkx1"
      },
      "outputs": [
        {
          "data": {
            "text/plain": [
              "[{'score': 0.9978768825531006,\n",
              "  'label': 'price',\n",
              "  'box': {'xmin': 0, 'ymin': 192, 'xmax': 198, 'ymax': 355}},\n",
              " {'score': 0.9742715954780579,\n",
              "  'label': 'product name',\n",
              "  'box': {'xmin': 0, 'ymin': 25, 'xmax': 238, 'ymax': 207}}]"
            ]
          },
          "execution_count": 74,
          "metadata": {},
          "output_type": "execute_result"
        }
      ],
      "source": [
        "bbx_info = [bbx for bbx in bbx_info if bbx['score']> 0.9]\n",
        "bbx_info"
      ]
    },
    {
      "cell_type": "code",
      "execution_count": 5,
      "metadata": {
        "id": "WIZO1DLeAiQ0"
      },
      "outputs": [
        {
          "ename": "NameError",
          "evalue": "name 'img' is not defined",
          "output_type": "error",
          "traceback": [
            "\u001b[0;31m---------------------------------------------------------------------------\u001b[0m",
            "\u001b[0;31mNameError\u001b[0m                                 Traceback (most recent call last)",
            "Cell \u001b[0;32mIn[5], line 1\u001b[0m\n\u001b[0;32m----> 1\u001b[0m img \u001b[38;5;241m=\u001b[39m draw_bbx_on_in_mem_img(\u001b[43mimg\u001b[49m,bbx_info)\n\u001b[1;32m      2\u001b[0m img\n",
            "\u001b[0;31mNameError\u001b[0m: name 'img' is not defined"
          ]
        }
      ],
      "source": [
        "img = draw_bbx_on_in_mem_img(img,bbx_info)\n",
        "img"
      ]
    },
    {
      "cell_type": "code",
      "execution_count": 77,
      "metadata": {},
      "outputs": [],
      "source": [
        "img.save('test.png')"
      ]
    },
    {
      "cell_type": "code",
      "execution_count": null,
      "metadata": {
        "id": "8pv_R0ACoKR5"
      },
      "outputs": [],
      "source": [
        "def draw_bbx_on_img(img_path,bbx_info):\n",
        "  image = Image.open(img_path)\n",
        "  draw = ImageDraw.Draw(image)\n",
        "  for bb in bbx_info:\n",
        "    label = bb['label']\n",
        "    score = bb['score']\n",
        "    box = bb['box']\n",
        "    x,y,w,h = box['xmin'],box['ymin'],box['xmax'],box['ymax']\n",
        "    draw.rectangle((x, y, x + w, y + h), outline=\"red\", width=1)\n",
        "    draw.text((x, y), f'{label} Score: {score}', fill=\"black\")\n",
        "\n",
        "  return image"
      ]
    },
    {
      "cell_type": "code",
      "execution_count": null,
      "metadata": {
        "id": "J3GiSKy1X8DC"
      },
      "outputs": [],
      "source": [
        "def check_for_results(img_path,model):\n",
        "  img_path = img_path\n",
        "  image = Image.open(img_path)\n",
        "\n",
        "  obj_detector = pipeline(\"object-detection\", model=model)\n",
        "  objects = obj_detector(image)\n",
        "  return True if len(objects)>0 else False"
      ]
    },
    {
      "cell_type": "code",
      "execution_count": null,
      "metadata": {
        "id": "mhEH9HPPvVnr"
      },
      "outputs": [],
      "source": []
    }
  ],
  "metadata": {
    "accelerator": "GPU",
    "colab": {
      "gpuType": "T4",
      "provenance": []
    },
    "kernelspec": {
      "display_name": "Python 3",
      "name": "python3"
    },
    "language_info": {
      "codemirror_mode": {
        "name": "ipython",
        "version": 3
      },
      "file_extension": ".py",
      "mimetype": "text/x-python",
      "name": "python",
      "nbconvert_exporter": "python",
      "pygments_lexer": "ipython3",
      "version": "3.9.18"
    },
    "widgets": {
      "application/vnd.jupyter.widget-state+json": {
        "189d1c1189c246eba60d62fb47557de5": {
          "model_module": "@jupyter-widgets/controls",
          "model_module_version": "1.5.0",
          "model_name": "ProgressStyleModel",
          "state": {
            "_model_module": "@jupyter-widgets/controls",
            "_model_module_version": "1.5.0",
            "_model_name": "ProgressStyleModel",
            "_view_count": null,
            "_view_module": "@jupyter-widgets/base",
            "_view_module_version": "1.2.0",
            "_view_name": "StyleView",
            "bar_color": null,
            "description_width": ""
          }
        },
        "1e380229517b457585a6c76365dc3d63": {
          "model_module": "@jupyter-widgets/controls",
          "model_module_version": "1.5.0",
          "model_name": "DescriptionStyleModel",
          "state": {
            "_model_module": "@jupyter-widgets/controls",
            "_model_module_version": "1.5.0",
            "_model_name": "DescriptionStyleModel",
            "_view_count": null,
            "_view_module": "@jupyter-widgets/base",
            "_view_module_version": "1.2.0",
            "_view_name": "StyleView",
            "description_width": ""
          }
        },
        "27834343dd944d23850595ed2f7ef557": {
          "model_module": "@jupyter-widgets/controls",
          "model_module_version": "1.5.0",
          "model_name": "HTMLModel",
          "state": {
            "_dom_classes": [],
            "_model_module": "@jupyter-widgets/controls",
            "_model_module_version": "1.5.0",
            "_model_name": "HTMLModel",
            "_view_count": null,
            "_view_module": "@jupyter-widgets/controls",
            "_view_module_version": "1.5.0",
            "_view_name": "HTMLView",
            "description": "",
            "description_tooltip": null,
            "layout": "IPY_MODEL_ffe764cccba544259b6654e602d1927f",
            "placeholder": "​",
            "style": "IPY_MODEL_54114d11d6c5422ab276183e97f9945d",
            "value": "model.safetensors: 100%"
          }
        },
        "4c090a20bba940ec80b16abb21e706cb": {
          "model_module": "@jupyter-widgets/base",
          "model_module_version": "1.2.0",
          "model_name": "LayoutModel",
          "state": {
            "_model_module": "@jupyter-widgets/base",
            "_model_module_version": "1.2.0",
            "_model_name": "LayoutModel",
            "_view_count": null,
            "_view_module": "@jupyter-widgets/base",
            "_view_module_version": "1.2.0",
            "_view_name": "LayoutView",
            "align_content": null,
            "align_items": null,
            "align_self": null,
            "border": null,
            "bottom": null,
            "display": null,
            "flex": null,
            "flex_flow": null,
            "grid_area": null,
            "grid_auto_columns": null,
            "grid_auto_flow": null,
            "grid_auto_rows": null,
            "grid_column": null,
            "grid_gap": null,
            "grid_row": null,
            "grid_template_areas": null,
            "grid_template_columns": null,
            "grid_template_rows": null,
            "height": null,
            "justify_content": null,
            "justify_items": null,
            "left": null,
            "margin": null,
            "max_height": null,
            "max_width": null,
            "min_height": null,
            "min_width": null,
            "object_fit": null,
            "object_position": null,
            "order": null,
            "overflow": null,
            "overflow_x": null,
            "overflow_y": null,
            "padding": null,
            "right": null,
            "top": null,
            "visibility": null,
            "width": null
          }
        },
        "54114d11d6c5422ab276183e97f9945d": {
          "model_module": "@jupyter-widgets/controls",
          "model_module_version": "1.5.0",
          "model_name": "DescriptionStyleModel",
          "state": {
            "_model_module": "@jupyter-widgets/controls",
            "_model_module_version": "1.5.0",
            "_model_name": "DescriptionStyleModel",
            "_view_count": null,
            "_view_module": "@jupyter-widgets/base",
            "_view_module_version": "1.2.0",
            "_view_name": "StyleView",
            "description_width": ""
          }
        },
        "5a1e0c42556845219dda2d36d1aa387c": {
          "model_module": "@jupyter-widgets/base",
          "model_module_version": "1.2.0",
          "model_name": "LayoutModel",
          "state": {
            "_model_module": "@jupyter-widgets/base",
            "_model_module_version": "1.2.0",
            "_model_name": "LayoutModel",
            "_view_count": null,
            "_view_module": "@jupyter-widgets/base",
            "_view_module_version": "1.2.0",
            "_view_name": "LayoutView",
            "align_content": null,
            "align_items": null,
            "align_self": null,
            "border": null,
            "bottom": null,
            "display": null,
            "flex": null,
            "flex_flow": null,
            "grid_area": null,
            "grid_auto_columns": null,
            "grid_auto_flow": null,
            "grid_auto_rows": null,
            "grid_column": null,
            "grid_gap": null,
            "grid_row": null,
            "grid_template_areas": null,
            "grid_template_columns": null,
            "grid_template_rows": null,
            "height": null,
            "justify_content": null,
            "justify_items": null,
            "left": null,
            "margin": null,
            "max_height": null,
            "max_width": null,
            "min_height": null,
            "min_width": null,
            "object_fit": null,
            "object_position": null,
            "order": null,
            "overflow": null,
            "overflow_x": null,
            "overflow_y": null,
            "padding": null,
            "right": null,
            "top": null,
            "visibility": null,
            "width": null
          }
        },
        "63929411a26e42028a5f93a926f5ac62": {
          "model_module": "@jupyter-widgets/controls",
          "model_module_version": "1.5.0",
          "model_name": "FloatProgressModel",
          "state": {
            "_dom_classes": [],
            "_model_module": "@jupyter-widgets/controls",
            "_model_module_version": "1.5.0",
            "_model_name": "FloatProgressModel",
            "_view_count": null,
            "_view_module": "@jupyter-widgets/controls",
            "_view_module_version": "1.5.0",
            "_view_name": "ProgressView",
            "bar_style": "success",
            "description": "",
            "description_tooltip": null,
            "layout": "IPY_MODEL_5a1e0c42556845219dda2d36d1aa387c",
            "max": 102469840,
            "min": 0,
            "orientation": "horizontal",
            "style": "IPY_MODEL_189d1c1189c246eba60d62fb47557de5",
            "value": 102469840
          }
        },
        "8296512d63494933be28fa6404d7421d": {
          "model_module": "@jupyter-widgets/controls",
          "model_module_version": "1.5.0",
          "model_name": "HBoxModel",
          "state": {
            "_dom_classes": [],
            "_model_module": "@jupyter-widgets/controls",
            "_model_module_version": "1.5.0",
            "_model_name": "HBoxModel",
            "_view_count": null,
            "_view_module": "@jupyter-widgets/controls",
            "_view_module_version": "1.5.0",
            "_view_name": "HBoxView",
            "box_style": "",
            "children": [
              "IPY_MODEL_27834343dd944d23850595ed2f7ef557",
              "IPY_MODEL_63929411a26e42028a5f93a926f5ac62",
              "IPY_MODEL_edbc7c6aa1fe4aba93662a4ba1cc26f7"
            ],
            "layout": "IPY_MODEL_4c090a20bba940ec80b16abb21e706cb"
          }
        },
        "900584e9fcee4f35862896bf30a807be": {
          "model_module": "@jupyter-widgets/base",
          "model_module_version": "1.2.0",
          "model_name": "LayoutModel",
          "state": {
            "_model_module": "@jupyter-widgets/base",
            "_model_module_version": "1.2.0",
            "_model_name": "LayoutModel",
            "_view_count": null,
            "_view_module": "@jupyter-widgets/base",
            "_view_module_version": "1.2.0",
            "_view_name": "LayoutView",
            "align_content": null,
            "align_items": null,
            "align_self": null,
            "border": null,
            "bottom": null,
            "display": null,
            "flex": null,
            "flex_flow": null,
            "grid_area": null,
            "grid_auto_columns": null,
            "grid_auto_flow": null,
            "grid_auto_rows": null,
            "grid_column": null,
            "grid_gap": null,
            "grid_row": null,
            "grid_template_areas": null,
            "grid_template_columns": null,
            "grid_template_rows": null,
            "height": null,
            "justify_content": null,
            "justify_items": null,
            "left": null,
            "margin": null,
            "max_height": null,
            "max_width": null,
            "min_height": null,
            "min_width": null,
            "object_fit": null,
            "object_position": null,
            "order": null,
            "overflow": null,
            "overflow_x": null,
            "overflow_y": null,
            "padding": null,
            "right": null,
            "top": null,
            "visibility": null,
            "width": null
          }
        },
        "edbc7c6aa1fe4aba93662a4ba1cc26f7": {
          "model_module": "@jupyter-widgets/controls",
          "model_module_version": "1.5.0",
          "model_name": "HTMLModel",
          "state": {
            "_dom_classes": [],
            "_model_module": "@jupyter-widgets/controls",
            "_model_module_version": "1.5.0",
            "_model_name": "HTMLModel",
            "_view_count": null,
            "_view_module": "@jupyter-widgets/controls",
            "_view_module_version": "1.5.0",
            "_view_name": "HTMLView",
            "description": "",
            "description_tooltip": null,
            "layout": "IPY_MODEL_900584e9fcee4f35862896bf30a807be",
            "placeholder": "​",
            "style": "IPY_MODEL_1e380229517b457585a6c76365dc3d63",
            "value": " 102M/102M [00:01&lt;00:00, 109MB/s]"
          }
        },
        "ffe764cccba544259b6654e602d1927f": {
          "model_module": "@jupyter-widgets/base",
          "model_module_version": "1.2.0",
          "model_name": "LayoutModel",
          "state": {
            "_model_module": "@jupyter-widgets/base",
            "_model_module_version": "1.2.0",
            "_model_name": "LayoutModel",
            "_view_count": null,
            "_view_module": "@jupyter-widgets/base",
            "_view_module_version": "1.2.0",
            "_view_name": "LayoutView",
            "align_content": null,
            "align_items": null,
            "align_self": null,
            "border": null,
            "bottom": null,
            "display": null,
            "flex": null,
            "flex_flow": null,
            "grid_area": null,
            "grid_auto_columns": null,
            "grid_auto_flow": null,
            "grid_auto_rows": null,
            "grid_column": null,
            "grid_gap": null,
            "grid_row": null,
            "grid_template_areas": null,
            "grid_template_columns": null,
            "grid_template_rows": null,
            "height": null,
            "justify_content": null,
            "justify_items": null,
            "left": null,
            "margin": null,
            "max_height": null,
            "max_width": null,
            "min_height": null,
            "min_width": null,
            "object_fit": null,
            "object_position": null,
            "order": null,
            "overflow": null,
            "overflow_x": null,
            "overflow_y": null,
            "padding": null,
            "right": null,
            "top": null,
            "visibility": null,
            "width": null
          }
        }
      }
    }
  },
  "nbformat": 4,
  "nbformat_minor": 0
}
